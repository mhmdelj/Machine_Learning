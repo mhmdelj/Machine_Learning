{
 "cells": [
  {
   "cell_type": "code",
   "execution_count": 1,
   "metadata": {},
   "outputs": [],
   "source": [
    "import pandas as pd\n",
    "import numpy as np\n",
    "import matplotlib.pyplot as plt \n",
    "\n",
    "%matplotlib inline"
   ]
  },
  {
   "cell_type": "code",
   "execution_count": 2,
   "metadata": {},
   "outputs": [
    {
     "data": {
      "text/html": [
       "<div>\n",
       "<style scoped>\n",
       "    .dataframe tbody tr th:only-of-type {\n",
       "        vertical-align: middle;\n",
       "    }\n",
       "\n",
       "    .dataframe tbody tr th {\n",
       "        vertical-align: top;\n",
       "    }\n",
       "\n",
       "    .dataframe thead th {\n",
       "        text-align: right;\n",
       "    }\n",
       "</style>\n",
       "<table border=\"1\" class=\"dataframe\">\n",
       "  <thead>\n",
       "    <tr style=\"text-align: right;\">\n",
       "      <th></th>\n",
       "      <th>CRIM</th>\n",
       "      <th>ZN</th>\n",
       "      <th>INDUS</th>\n",
       "      <th>CHAS</th>\n",
       "      <th>NOX</th>\n",
       "      <th>RM</th>\n",
       "      <th>AGE</th>\n",
       "      <th>DIS</th>\n",
       "      <th>RAD</th>\n",
       "      <th>TAX</th>\n",
       "      <th>PTRATIO</th>\n",
       "      <th>B</th>\n",
       "      <th>LSTAT</th>\n",
       "      <th>MEDV</th>\n",
       "    </tr>\n",
       "  </thead>\n",
       "  <tbody>\n",
       "    <tr>\n",
       "      <th>0</th>\n",
       "      <td>0.00632</td>\n",
       "      <td>18.0</td>\n",
       "      <td>2.31</td>\n",
       "      <td>0.0</td>\n",
       "      <td>0.538</td>\n",
       "      <td>6.575</td>\n",
       "      <td>65.2</td>\n",
       "      <td>4.0900</td>\n",
       "      <td>1.0</td>\n",
       "      <td>296.0</td>\n",
       "      <td>15.3</td>\n",
       "      <td>396.90</td>\n",
       "      <td>4.98</td>\n",
       "      <td>24.0</td>\n",
       "    </tr>\n",
       "    <tr>\n",
       "      <th>1</th>\n",
       "      <td>0.02731</td>\n",
       "      <td>0.0</td>\n",
       "      <td>7.07</td>\n",
       "      <td>0.0</td>\n",
       "      <td>0.469</td>\n",
       "      <td>6.421</td>\n",
       "      <td>78.9</td>\n",
       "      <td>4.9671</td>\n",
       "      <td>2.0</td>\n",
       "      <td>242.0</td>\n",
       "      <td>17.8</td>\n",
       "      <td>396.90</td>\n",
       "      <td>9.14</td>\n",
       "      <td>21.6</td>\n",
       "    </tr>\n",
       "    <tr>\n",
       "      <th>2</th>\n",
       "      <td>0.02729</td>\n",
       "      <td>0.0</td>\n",
       "      <td>7.07</td>\n",
       "      <td>0.0</td>\n",
       "      <td>0.469</td>\n",
       "      <td>7.185</td>\n",
       "      <td>61.1</td>\n",
       "      <td>4.9671</td>\n",
       "      <td>2.0</td>\n",
       "      <td>242.0</td>\n",
       "      <td>17.8</td>\n",
       "      <td>392.83</td>\n",
       "      <td>4.03</td>\n",
       "      <td>34.7</td>\n",
       "    </tr>\n",
       "    <tr>\n",
       "      <th>3</th>\n",
       "      <td>0.03237</td>\n",
       "      <td>0.0</td>\n",
       "      <td>2.18</td>\n",
       "      <td>0.0</td>\n",
       "      <td>0.458</td>\n",
       "      <td>6.998</td>\n",
       "      <td>45.8</td>\n",
       "      <td>6.0622</td>\n",
       "      <td>3.0</td>\n",
       "      <td>222.0</td>\n",
       "      <td>18.7</td>\n",
       "      <td>394.63</td>\n",
       "      <td>2.94</td>\n",
       "      <td>33.4</td>\n",
       "    </tr>\n",
       "    <tr>\n",
       "      <th>4</th>\n",
       "      <td>0.06905</td>\n",
       "      <td>0.0</td>\n",
       "      <td>2.18</td>\n",
       "      <td>0.0</td>\n",
       "      <td>0.458</td>\n",
       "      <td>7.147</td>\n",
       "      <td>54.2</td>\n",
       "      <td>6.0622</td>\n",
       "      <td>3.0</td>\n",
       "      <td>222.0</td>\n",
       "      <td>18.7</td>\n",
       "      <td>396.90</td>\n",
       "      <td>NaN</td>\n",
       "      <td>36.2</td>\n",
       "    </tr>\n",
       "  </tbody>\n",
       "</table>\n",
       "</div>"
      ],
      "text/plain": [
       "      CRIM    ZN  INDUS  CHAS    NOX     RM   AGE     DIS  RAD    TAX  \\\n",
       "0  0.00632  18.0   2.31   0.0  0.538  6.575  65.2  4.0900  1.0  296.0   \n",
       "1  0.02731   0.0   7.07   0.0  0.469  6.421  78.9  4.9671  2.0  242.0   \n",
       "2  0.02729   0.0   7.07   0.0  0.469  7.185  61.1  4.9671  2.0  242.0   \n",
       "3  0.03237   0.0   2.18   0.0  0.458  6.998  45.8  6.0622  3.0  222.0   \n",
       "4  0.06905   0.0   2.18   0.0  0.458  7.147  54.2  6.0622  3.0  222.0   \n",
       "\n",
       "   PTRATIO       B  LSTAT  MEDV  \n",
       "0     15.3  396.90   4.98  24.0  \n",
       "1     17.8  396.90   9.14  21.6  \n",
       "2     17.8  392.83   4.03  34.7  \n",
       "3     18.7  394.63   2.94  33.4  \n",
       "4     18.7  396.90    NaN  36.2  "
      ]
     },
     "execution_count": 2,
     "metadata": {},
     "output_type": "execute_result"
    }
   ],
   "source": [
    "df = pd.read_csv(\"data/HousingData.csv\", sep=';')\n",
    "df.head()"
   ]
  },
  {
   "cell_type": "markdown",
   "metadata": {},
   "source": [
    "### 1 - Nombre des lignes et des colonnes"
   ]
  },
  {
   "cell_type": "code",
   "execution_count": 3,
   "metadata": {},
   "outputs": [
    {
     "data": {
      "text/plain": [
       "(518, 14)"
      ]
     },
     "execution_count": 3,
     "metadata": {},
     "output_type": "execute_result"
    }
   ],
   "source": [
    "df.shape"
   ]
  },
  {
   "cell_type": "markdown",
   "metadata": {},
   "source": [
    "### 2 - La distribution de MEDV"
   ]
  },
  {
   "cell_type": "code",
   "execution_count": 4,
   "metadata": {},
   "outputs": [],
   "source": [
    "import seaborn as sns"
   ]
  },
  {
   "cell_type": "code",
   "execution_count": 5,
   "metadata": {
    "scrolled": true
   },
   "outputs": [
    {
     "data": {
      "image/png": "[encoded data removed]",
      "text/plain": [
       "<Figure size 842.4x595.44 with 1 Axes>"
      ]
     },
     "metadata": {},
     "output_type": "display_data"
    }
   ],
   "source": [
    "sns.set(rc={'figure.figsize':(11.7,8.27)})\n",
    "sns.distplot(df['MEDV'], bins=30)\n",
    "plt.show()"
   ]
  },
  {
   "cell_type": "markdown",
   "metadata": {},
   "source": [
    "### 3 - La matrice de corrélation"
   ]
  },
  {
   "cell_type": "code",
   "execution_count": 6,
   "metadata": {
    "scrolled": true
   },
   "outputs": [
    {
     "data": {
      "text/html": [
       "<div>\n",
       "<style scoped>\n",
       "    .dataframe tbody tr th:only-of-type {\n",
       "        vertical-align: middle;\n",
       "    }\n",
       "\n",
       "    .dataframe tbody tr th {\n",
       "        vertical-align: top;\n",
       "    }\n",
       "\n",
       "    .dataframe thead th {\n",
       "        text-align: right;\n",
       "    }\n",
       "</style>\n",
       "<table border=\"1\" class=\"dataframe\">\n",
       "  <thead>\n",
       "    <tr style=\"text-align: right;\">\n",
       "      <th></th>\n",
       "      <th>CRIM</th>\n",
       "      <th>ZN</th>\n",
       "      <th>INDUS</th>\n",
       "      <th>CHAS</th>\n",
       "      <th>NOX</th>\n",
       "      <th>RM</th>\n",
       "      <th>AGE</th>\n",
       "      <th>DIS</th>\n",
       "      <th>RAD</th>\n",
       "      <th>TAX</th>\n",
       "      <th>PTRATIO</th>\n",
       "      <th>B</th>\n",
       "      <th>LSTAT</th>\n",
       "      <th>MEDV</th>\n",
       "    </tr>\n",
       "  </thead>\n",
       "  <tbody>\n",
       "    <tr>\n",
       "      <th>CRIM</th>\n",
       "      <td>1.000000</td>\n",
       "      <td>-0.187087</td>\n",
       "      <td>0.403496</td>\n",
       "      <td>-0.052359</td>\n",
       "      <td>0.417602</td>\n",
       "      <td>-0.213960</td>\n",
       "      <td>0.348009</td>\n",
       "      <td>-0.374696</td>\n",
       "      <td>0.625559</td>\n",
       "      <td>0.581732</td>\n",
       "      <td>0.268657</td>\n",
       "      <td>-0.381250</td>\n",
       "      <td>0.440513</td>\n",
       "      <td>-0.385045</td>\n",
       "    </tr>\n",
       "    <tr>\n",
       "      <th>ZN</th>\n",
       "      <td>-0.187087</td>\n",
       "      <td>1.000000</td>\n",
       "      <td>-0.524530</td>\n",
       "      <td>-0.033754</td>\n",
       "      <td>-0.510450</td>\n",
       "      <td>0.324997</td>\n",
       "      <td>-0.560256</td>\n",
       "      <td>0.652598</td>\n",
       "      <td>-0.302708</td>\n",
       "      <td>-0.304721</td>\n",
       "      <td>-0.419530</td>\n",
       "      <td>0.168378</td>\n",
       "      <td>-0.413585</td>\n",
       "      <td>0.376718</td>\n",
       "    </tr>\n",
       "    <tr>\n",
       "      <th>INDUS</th>\n",
       "      <td>0.403496</td>\n",
       "      <td>-0.524530</td>\n",
       "      <td>1.000000</td>\n",
       "      <td>0.062313</td>\n",
       "      <td>0.764435</td>\n",
       "      <td>-0.381841</td>\n",
       "      <td>0.628905</td>\n",
       "      <td>-0.711435</td>\n",
       "      <td>0.606267</td>\n",
       "      <td>0.732125</td>\n",
       "      <td>0.373453</td>\n",
       "      <td>-0.360758</td>\n",
       "      <td>0.584172</td>\n",
       "      <td>-0.473261</td>\n",
       "    </tr>\n",
       "    <tr>\n",
       "      <th>CHAS</th>\n",
       "      <td>-0.052359</td>\n",
       "      <td>-0.033754</td>\n",
       "      <td>0.062313</td>\n",
       "      <td>1.000000</td>\n",
       "      <td>0.075911</td>\n",
       "      <td>0.108210</td>\n",
       "      <td>0.075950</td>\n",
       "      <td>-0.094972</td>\n",
       "      <td>0.004906</td>\n",
       "      <td>-0.028929</td>\n",
       "      <td>-0.117031</td>\n",
       "      <td>0.049883</td>\n",
       "      <td>-0.048712</td>\n",
       "      <td>0.184086</td>\n",
       "    </tr>\n",
       "    <tr>\n",
       "      <th>NOX</th>\n",
       "      <td>0.417602</td>\n",
       "      <td>-0.510450</td>\n",
       "      <td>0.764435</td>\n",
       "      <td>0.075911</td>\n",
       "      <td>1.000000</td>\n",
       "      <td>-0.298614</td>\n",
       "      <td>0.723634</td>\n",
       "      <td>-0.769159</td>\n",
       "      <td>0.610696</td>\n",
       "      <td>0.667235</td>\n",
       "      <td>0.182062</td>\n",
       "      <td>-0.379753</td>\n",
       "      <td>0.578813</td>\n",
       "      <td>-0.423280</td>\n",
       "    </tr>\n",
       "    <tr>\n",
       "      <th>RM</th>\n",
       "      <td>-0.213960</td>\n",
       "      <td>0.324997</td>\n",
       "      <td>-0.381841</td>\n",
       "      <td>0.108210</td>\n",
       "      <td>-0.298614</td>\n",
       "      <td>1.000000</td>\n",
       "      <td>-0.246250</td>\n",
       "      <td>0.202251</td>\n",
       "      <td>-0.200706</td>\n",
       "      <td>-0.282553</td>\n",
       "      <td>-0.364361</td>\n",
       "      <td>0.125036</td>\n",
       "      <td>-0.611190</td>\n",
       "      <td>0.696271</td>\n",
       "    </tr>\n",
       "    <tr>\n",
       "      <th>AGE</th>\n",
       "      <td>0.348009</td>\n",
       "      <td>-0.560256</td>\n",
       "      <td>0.628905</td>\n",
       "      <td>0.075950</td>\n",
       "      <td>0.723634</td>\n",
       "      <td>-0.246250</td>\n",
       "      <td>1.000000</td>\n",
       "      <td>-0.736744</td>\n",
       "      <td>0.449046</td>\n",
       "      <td>0.499174</td>\n",
       "      <td>0.270673</td>\n",
       "      <td>-0.268292</td>\n",
       "      <td>0.606363</td>\n",
       "      <td>-0.398429</td>\n",
       "    </tr>\n",
       "    <tr>\n",
       "      <th>DIS</th>\n",
       "      <td>-0.374696</td>\n",
       "      <td>0.652598</td>\n",
       "      <td>-0.711435</td>\n",
       "      <td>-0.094972</td>\n",
       "      <td>-0.769159</td>\n",
       "      <td>0.202251</td>\n",
       "      <td>-0.736744</td>\n",
       "      <td>1.000000</td>\n",
       "      <td>-0.494936</td>\n",
       "      <td>-0.534358</td>\n",
       "      <td>-0.224440</td>\n",
       "      <td>0.291545</td>\n",
       "      <td>-0.490227</td>\n",
       "      <td>0.246556</td>\n",
       "    </tr>\n",
       "    <tr>\n",
       "      <th>RAD</th>\n",
       "      <td>0.625559</td>\n",
       "      <td>-0.302708</td>\n",
       "      <td>0.606267</td>\n",
       "      <td>0.004906</td>\n",
       "      <td>0.610696</td>\n",
       "      <td>-0.200706</td>\n",
       "      <td>0.449046</td>\n",
       "      <td>-0.494936</td>\n",
       "      <td>1.000000</td>\n",
       "      <td>0.910815</td>\n",
       "      <td>0.442535</td>\n",
       "      <td>-0.443598</td>\n",
       "      <td>0.473155</td>\n",
       "      <td>-0.371824</td>\n",
       "    </tr>\n",
       "    <tr>\n",
       "      <th>TAX</th>\n",
       "      <td>0.581732</td>\n",
       "      <td>-0.304721</td>\n",
       "      <td>0.732125</td>\n",
       "      <td>-0.028929</td>\n",
       "      <td>0.667235</td>\n",
       "      <td>-0.282553</td>\n",
       "      <td>0.499174</td>\n",
       "      <td>-0.534358</td>\n",
       "      <td>0.910815</td>\n",
       "      <td>1.000000</td>\n",
       "      <td>0.439727</td>\n",
       "      <td>-0.441059</td>\n",
       "      <td>0.529336</td>\n",
       "      <td>-0.458363</td>\n",
       "    </tr>\n",
       "    <tr>\n",
       "      <th>PTRATIO</th>\n",
       "      <td>0.268657</td>\n",
       "      <td>-0.419530</td>\n",
       "      <td>0.373453</td>\n",
       "      <td>-0.117031</td>\n",
       "      <td>0.182062</td>\n",
       "      <td>-0.364361</td>\n",
       "      <td>0.270673</td>\n",
       "      <td>-0.224440</td>\n",
       "      <td>0.442535</td>\n",
       "      <td>0.439727</td>\n",
       "      <td>1.000000</td>\n",
       "      <td>-0.169230</td>\n",
       "      <td>0.374753</td>\n",
       "      <td>-0.512566</td>\n",
       "    </tr>\n",
       "    <tr>\n",
       "      <th>B</th>\n",
       "      <td>-0.381250</td>\n",
       "      <td>0.168378</td>\n",
       "      <td>-0.360758</td>\n",
       "      <td>0.049883</td>\n",
       "      <td>-0.379753</td>\n",
       "      <td>0.125036</td>\n",
       "      <td>-0.268292</td>\n",
       "      <td>0.291545</td>\n",
       "      <td>-0.443598</td>\n",
       "      <td>-0.441059</td>\n",
       "      <td>-0.169230</td>\n",
       "      <td>1.000000</td>\n",
       "      <td>-0.366107</td>\n",
       "      <td>0.328778</td>\n",
       "    </tr>\n",
       "    <tr>\n",
       "      <th>LSTAT</th>\n",
       "      <td>0.440513</td>\n",
       "      <td>-0.413585</td>\n",
       "      <td>0.584172</td>\n",
       "      <td>-0.048712</td>\n",
       "      <td>0.578813</td>\n",
       "      <td>-0.611190</td>\n",
       "      <td>0.606363</td>\n",
       "      <td>-0.490227</td>\n",
       "      <td>0.473155</td>\n",
       "      <td>0.529336</td>\n",
       "      <td>0.374753</td>\n",
       "      <td>-0.366107</td>\n",
       "      <td>1.000000</td>\n",
       "      <td>-0.735923</td>\n",
       "    </tr>\n",
       "    <tr>\n",
       "      <th>MEDV</th>\n",
       "      <td>-0.385045</td>\n",
       "      <td>0.376718</td>\n",
       "      <td>-0.473261</td>\n",
       "      <td>0.184086</td>\n",
       "      <td>-0.423280</td>\n",
       "      <td>0.696271</td>\n",
       "      <td>-0.398429</td>\n",
       "      <td>0.246556</td>\n",
       "      <td>-0.371824</td>\n",
       "      <td>-0.458363</td>\n",
       "      <td>-0.512566</td>\n",
       "      <td>0.328778</td>\n",
       "      <td>-0.735923</td>\n",
       "      <td>1.000000</td>\n",
       "    </tr>\n",
       "  </tbody>\n",
       "</table>\n",
       "</div>"
      ],
      "text/plain": [
       "             CRIM        ZN     INDUS      CHAS       NOX        RM       AGE  \\\n",
       "CRIM     1.000000 -0.187087  0.403496 -0.052359  0.417602 -0.213960  0.348009   \n",
       "ZN      -0.187087  1.000000 -0.524530 -0.033754 -0.510450  0.324997 -0.560256   \n",
       "INDUS    0.403496 -0.524530  1.000000  0.062313  0.764435 -0.381841  0.628905   \n",
       "CHAS    -0.052359 -0.033754  0.062313  1.000000  0.075911  0.108210  0.075950   \n",
       "NOX      0.417602 -0.510450  0.764435  0.075911  1.000000 -0.298614  0.723634   \n",
       "RM      -0.213960  0.324997 -0.381841  0.108210 -0.298614  1.000000 -0.246250   \n",
       "AGE      0.348009 -0.560256  0.628905  0.075950  0.723634 -0.246250  1.000000   \n",
       "DIS     -0.374696  0.652598 -0.711435 -0.094972 -0.769159  0.202251 -0.736744   \n",
       "RAD      0.625559 -0.302708  0.606267  0.004906  0.610696 -0.200706  0.449046   \n",
       "TAX      0.581732 -0.304721  0.732125 -0.028929  0.667235 -0.282553  0.499174   \n",
       "PTRATIO  0.268657 -0.419530  0.373453 -0.117031  0.182062 -0.364361  0.270673   \n",
       "B       -0.381250  0.168378 -0.360758  0.049883 -0.379753  0.125036 -0.268292   \n",
       "LSTAT    0.440513 -0.413585  0.584172 -0.048712  0.578813 -0.611190  0.606363   \n",
       "MEDV    -0.385045  0.376718 -0.473261  0.184086 -0.423280  0.696271 -0.398429   \n",
       "\n",
       "              DIS       RAD       TAX   PTRATIO         B     LSTAT      MEDV  \n",
       "CRIM    -0.374696  0.625559  0.581732  0.268657 -0.381250  0.440513 -0.385045  \n",
       "ZN       0.652598 -0.302708 -0.304721 -0.419530  0.168378 -0.413585  0.376718  \n",
       "INDUS   -0.711435  0.606267  0.732125  0.373453 -0.360758  0.584172 -0.473261  \n",
       "CHAS    -0.094972  0.004906 -0.028929 -0.117031  0.049883 -0.048712  0.184086  \n",
       "NOX     -0.769159  0.610696  0.667235  0.182062 -0.379753  0.578813 -0.423280  \n",
       "RM       0.202251 -0.200706 -0.282553 -0.364361  0.125036 -0.611190  0.696271  \n",
       "AGE     -0.736744  0.449046  0.499174  0.270673 -0.268292  0.606363 -0.398429  \n",
       "DIS      1.000000 -0.494936 -0.534358 -0.224440  0.291545 -0.490227  0.246556  \n",
       "RAD     -0.494936  1.000000  0.910815  0.442535 -0.443598  0.473155 -0.371824  \n",
       "TAX     -0.534358  0.910815  1.000000  0.439727 -0.441059  0.529336 -0.458363  \n",
       "PTRATIO -0.224440  0.442535  0.439727  1.000000 -0.169230  0.374753 -0.512566  \n",
       "B        0.291545 -0.443598 -0.441059 -0.169230  1.000000 -0.366107  0.328778  \n",
       "LSTAT   -0.490227  0.473155  0.529336  0.374753 -0.366107  1.000000 -0.735923  \n",
       "MEDV     0.246556 -0.371824 -0.458363 -0.512566  0.328778 -0.735923  1.000000  "
      ]
     },
     "execution_count": 6,
     "metadata": {},
     "output_type": "execute_result"
    }
   ],
   "source": [
    "matrice_corre = df.corr()\n",
    "matrice_corre"
   ]
  },
  {
   "cell_type": "markdown",
   "metadata": {},
   "source": [
    "### 4 - Les valeurs manquantes avec leurs proportions"
   ]
  },
  {
   "cell_type": "code",
   "execution_count": 7,
   "metadata": {},
   "outputs": [],
   "source": [
    "def features_nan_detect(df, nbr_entries):\n",
    "    features_nan = []\n",
    "    print(\"--------------------------------------------\")\n",
    "    print(\"les features qui contiennent des valeurs manquantes\")\n",
    "    for i in df.columns:\n",
    "        x=df[i].isna().sum()\n",
    "        if x != 0:\n",
    "            features_nan.append(i)\n",
    "            print(i, \"---Nombre\", x)\n",
    "            print(i, \"---Proportion\", x/nbr_entries * 100)\n",
    "    return features_nan"
   ]
  },
  {
   "cell_type": "code",
   "execution_count": 8,
   "metadata": {},
   "outputs": [
    {
     "name": "stdout",
     "output_type": "stream",
     "text": [
      "--------------------------------------------\n",
      "les features qui contiennent des valeurs manquantes\n",
      "CRIM ---Nombre 21\n",
      "CRIM ---Proportion 4.054054054054054\n",
      "ZN ---Nombre 20\n",
      "ZN ---Proportion 3.861003861003861\n",
      "INDUS ---Nombre 21\n",
      "INDUS ---Proportion 4.054054054054054\n",
      "CHAS ---Nombre 20\n",
      "CHAS ---Proportion 3.861003861003861\n",
      "RM ---Nombre 1\n",
      "RM ---Proportion 0.19305019305019305\n",
      "AGE ---Nombre 20\n",
      "AGE ---Proportion 3.861003861003861\n",
      "DIS ---Nombre 1\n",
      "DIS ---Proportion 0.19305019305019305\n",
      "RAD ---Nombre 2\n",
      "RAD ---Proportion 0.3861003861003861\n",
      "TAX ---Nombre 2\n",
      "TAX ---Proportion 0.3861003861003861\n",
      "LSTAT ---Nombre 21\n",
      "LSTAT ---Proportion 4.054054054054054\n"
     ]
    }
   ],
   "source": [
    "features_nan = features_nan_detect(df, df.shape[0])"
   ]
  },
  {
   "cell_type": "code",
   "execution_count": 9,
   "metadata": {},
   "outputs": [],
   "source": [
    "#Remplacer les valeurs manquantes\n",
    "def features_nan_replace(df, features_tabl):\n",
    "    print(\"Remplacement des valeurs manquantes\")\n",
    "    for i in features_tabl:\n",
    "        for index, row in df.iterrows():\n",
    "            if pd.isna(row[i]):\n",
    "                t = df[i].dtype\n",
    "                if t in ['float64', 'int64']:\n",
    "                    df.loc[index, i] = df[i].median()\n",
    "                else :\n",
    "                    df.loc[index, i] = df[i].mode().iloc[0]"
   ]
  },
  {
   "cell_type": "code",
   "execution_count": 10,
   "metadata": {},
   "outputs": [
    {
     "name": "stdout",
     "output_type": "stream",
     "text": [
      "Remplacement des valeurs manquantes\n"
     ]
    }
   ],
   "source": [
    "features_nan_replace(df, features_nan)"
   ]
  },
  {
   "cell_type": "markdown",
   "metadata": {},
   "source": [
    "### 5 - X, Y, X_train, X_test, y_train et y_test"
   ]
  },
  {
   "cell_type": "code",
   "execution_count": 11,
   "metadata": {},
   "outputs": [],
   "source": [
    "from sklearn.model_selection import cross_val_score, train_test_split"
   ]
  },
  {
   "cell_type": "code",
   "execution_count": 12,
   "metadata": {},
   "outputs": [],
   "source": [
    "features = ['LSTAT', 'RM', 'NOX', 'PTRATIO', 'INDUS', 'DIS', 'ZN']\n",
    "X = df[features]\n",
    "y = df['MEDV']\n",
    "\n",
    "X_train, X_test, y_train, y_test = train_test_split(X, y, test_size=0.3, random_state=0)"
   ]
  },
  {
   "cell_type": "markdown",
   "metadata": {},
   "source": [
    "### 6 - Modele de Regression Linéaire"
   ]
  },
  {
   "cell_type": "code",
   "execution_count": 13,
   "metadata": {},
   "outputs": [],
   "source": [
    "from sklearn.linear_model import LinearRegression"
   ]
  },
  {
   "cell_type": "code",
   "execution_count": 14,
   "metadata": {},
   "outputs": [
    {
     "data": {
      "text/plain": [
       "LinearRegression(copy_X=True, fit_intercept=True, n_jobs=None, normalize=False)"
      ]
     },
     "execution_count": 14,
     "metadata": {},
     "output_type": "execute_result"
    }
   ],
   "source": [
    "model = LinearRegression()\n",
    "model.fit(X_train, y_train)"
   ]
  },
  {
   "cell_type": "code",
   "execution_count": 15,
   "metadata": {},
   "outputs": [],
   "source": [
    "#Y predicte\n",
    "y_predicted = model.predict(X_test)"
   ]
  },
  {
   "cell_type": "code",
   "execution_count": 16,
   "metadata": {},
   "outputs": [
    {
     "data": {
      "text/plain": [
       "0.7218193451594848"
      ]
     },
     "execution_count": 16,
     "metadata": {},
     "output_type": "execute_result"
    }
   ],
   "source": [
    "#Calcul du score\n",
    "score = model.score(X_test, y_test)\n",
    "score"
   ]
  },
  {
   "cell_type": "code",
   "execution_count": 17,
   "metadata": {},
   "outputs": [],
   "source": [
    "#RMSE\n",
    "def calcul_rmse(y_t,y_p):\n",
    "    s=0\n",
    "    for m,n in zip(y_t,y_p):\n",
    "        s+=(m-n)**2\n",
    "    return np.sqrt(s/len(y_p))"
   ]
  },
  {
   "cell_type": "code",
   "execution_count": 18,
   "metadata": {},
   "outputs": [
    {
     "name": "stdout",
     "output_type": "stream",
     "text": [
      "4.889838364519845\n"
     ]
    }
   ],
   "source": [
    "rmse = calcul_rmse(y_test, y_predicted)\n",
    "print(rmse)"
   ]
  },
  {
   "cell_type": "code",
   "execution_count": null,
   "metadata": {},
   "outputs": [],
   "source": []
  },
  {
   "cell_type": "markdown",
   "metadata": {},
   "source": [
    "### 7 - RANDOM FOREST"
   ]
  },
  {
   "cell_type": "code",
   "execution_count": 19,
   "metadata": {},
   "outputs": [],
   "source": [
    "from sklearn.ensemble import RandomForestRegressor"
   ]
  },
  {
   "cell_type": "code",
   "execution_count": 20,
   "metadata": {},
   "outputs": [
    {
     "name": "stderr",
     "output_type": "stream",
     "text": [
      "C:\\Users\\mdele\\Anaconda3\\lib\\site-packages\\sklearn\\ensemble\\forest.py:245: FutureWarning: The default value of n_estimators will change from 10 in version 0.20 to 100 in 0.22.\n",
      "  \"10 in version 0.20 to 100 in 0.22.\", FutureWarning)\n"
     ]
    },
    {
     "data": {
      "text/plain": [
       "RandomForestRegressor(bootstrap=True, criterion='mse', max_depth=None,\n",
       "                      max_features='auto', max_leaf_nodes=None,\n",
       "                      min_impurity_decrease=0.0, min_impurity_split=None,\n",
       "                      min_samples_leaf=1, min_samples_split=2,\n",
       "                      min_weight_fraction_leaf=0.0, n_estimators=10,\n",
       "                      n_jobs=None, oob_score=False, random_state=None,\n",
       "                      verbose=0, warm_start=False)"
      ]
     },
     "execution_count": 20,
     "metadata": {},
     "output_type": "execute_result"
    }
   ],
   "source": [
    "model = RandomForestRegressor()\n",
    "model.fit(X_train,y_train)"
   ]
  },
  {
   "cell_type": "code",
   "execution_count": 21,
   "metadata": {},
   "outputs": [
    {
     "data": {
      "text/plain": [
       "0.8442184723319924"
      ]
     },
     "execution_count": 21,
     "metadata": {},
     "output_type": "execute_result"
    }
   ],
   "source": [
    "#score\n",
    "score = model.score(X_test, y_test)\n",
    "score"
   ]
  },
  {
   "cell_type": "code",
   "execution_count": 22,
   "metadata": {},
   "outputs": [
    {
     "name": "stdout",
     "output_type": "stream",
     "text": [
      "3.6592242066962477\n"
     ]
    }
   ],
   "source": [
    "#RMSE\n",
    "y_predicted = model.predict(X_test)\n",
    "rmse = calcul_rmse(y_test, y_predicted)\n",
    "print(rmse)"
   ]
  },
  {
   "cell_type": "markdown",
   "metadata": {},
   "source": [
    "### Gradient Boosting"
   ]
  },
  {
   "cell_type": "code",
   "execution_count": 23,
   "metadata": {},
   "outputs": [],
   "source": [
    "from sklearn.ensemble import GradientBoostingRegressor"
   ]
  },
  {
   "cell_type": "code",
   "execution_count": 24,
   "metadata": {},
   "outputs": [
    {
     "data": {
      "text/plain": [
       "GradientBoostingRegressor(alpha=0.9, criterion='friedman_mse', init=None,\n",
       "                          learning_rate=0.1, loss='ls', max_depth=3,\n",
       "                          max_features=None, max_leaf_nodes=None,\n",
       "                          min_impurity_decrease=0.0, min_impurity_split=None,\n",
       "                          min_samples_leaf=1, min_samples_split=2,\n",
       "                          min_weight_fraction_leaf=0.0, n_estimators=100,\n",
       "                          n_iter_no_change=None, presort='auto',\n",
       "                          random_state=None, subsample=1.0, tol=0.0001,\n",
       "                          validation_fraction=0.1, verbose=0, warm_start=False)"
      ]
     },
     "execution_count": 24,
     "metadata": {},
     "output_type": "execute_result"
    }
   ],
   "source": [
    "model = GradientBoostingRegressor(n_estimators=100)\n",
    "model.fit(X_train,y_train)"
   ]
  },
  {
   "cell_type": "code",
   "execution_count": 25,
   "metadata": {},
   "outputs": [
    {
     "data": {
      "text/plain": [
       "0.8940086685149397"
      ]
     },
     "execution_count": 25,
     "metadata": {},
     "output_type": "execute_result"
    }
   ],
   "source": [
    "#score\n",
    "score = model.score(X_test, y_test)\n",
    "score"
   ]
  },
  {
   "cell_type": "code",
   "execution_count": 26,
   "metadata": {},
   "outputs": [
    {
     "name": "stdout",
     "output_type": "stream",
     "text": [
      "3.0183264879079763\n"
     ]
    }
   ],
   "source": [
    "#RMSE\n",
    "y_predicted = model.predict(X_test)\n",
    "rmse = calcul_rmse(y_test, y_predicted)\n",
    "print(rmse)"
   ]
  },
  {
   "cell_type": "markdown",
   "metadata": {},
   "source": [
    "## *Le meilleur modele est gradient boosting"
   ]
  },
  {
   "cell_type": "code",
   "execution_count": null,
   "metadata": {},
   "outputs": [],
   "source": []
  }
 ],
 "metadata": {
  "kernelspec": {
   "display_name": "Python 3",
   "language": "python",
   "name": "python3"
  },
  "language_info": {
   "codemirror_mode": {
    "name": "ipython",
    "version": 3
   },
   "file_extension": ".py",
   "mimetype": "text/x-python",
   "name": "python",
   "nbconvert_exporter": "python",
   "pygments_lexer": "ipython3",
   "version": "3.7.3"
  }
 },
 "nbformat": 4,
 "nbformat_minor": 2
}
