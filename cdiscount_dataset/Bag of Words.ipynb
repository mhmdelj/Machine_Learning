{
 "cells": [
  {
   "cell_type": "code",
   "execution_count": 2,
   "metadata": {},
   "outputs": [],
   "source": [
    "# -*- coding: utf-8 -*-\n",
    "import pandas as pd\n",
    "import numpy as np\n",
    "import unicodedata\n",
    "\n",
    "%matplotlib inline\n",
    "import pylab as plt\n",
    "\n",
    "pd.set_option('display.max_columns', 100)\n",
    "pd.set_option('display.max_columns', 200)\n",
    "\n",
    "pd.options.display.encoding = 'ascii'"
   ]
  },
  {
   "cell_type": "markdown",
   "metadata": {},
   "source": [
    "# Load Data"
   ]
  },
  {
   "cell_type": "code",
   "execution_count": 3,
   "metadata": {},
   "outputs": [],
   "source": [
    "train = pd.read_csv('data/train.csv', index_col=0)\n",
    "test = pd.read_csv('data/test.csv', index_col=0)\n"
   ]
  },
  {
   "cell_type": "code",
   "execution_count": 4,
   "metadata": {},
   "outputs": [
    {
     "data": {
      "text/html": [
       "<div>\n",
       "<style scoped>\n",
       "    .dataframe tbody tr th:only-of-type {\n",
       "        vertical-align: middle;\n",
       "    }\n",
       "\n",
       "    .dataframe tbody tr th {\n",
       "        vertical-align: top;\n",
       "    }\n",
       "\n",
       "    .dataframe thead th {\n",
       "        text-align: right;\n",
       "    }\n",
       "</style>\n",
       "<table border=\"1\" class=\"dataframe\">\n",
       "  <thead>\n",
       "    <tr style=\"text-align: right;\">\n",
       "      <th></th>\n",
       "      <th>Description</th>\n",
       "      <th>Libelle</th>\n",
       "      <th>Marque</th>\n",
       "      <th>prix</th>\n",
       "      <th>Categorie3</th>\n",
       "      <th>Categorie3_Name</th>\n",
       "    </tr>\n",
       "  </thead>\n",
       "  <tbody>\n",
       "    <tr>\n",
       "      <th>20189</th>\n",
       "      <td>Le centenaire de la Grande Guerre - Jean Huon</td>\n",
       "      <td>14-18 La guerre totale</td>\n",
       "      <td>AUCUNE</td>\n",
       "      <td>24.90</td>\n",
       "      <td>1000014152</td>\n",
       "      <td>HISTOIRE DE FRANCE</td>\n",
       "    </tr>\n",
       "    <tr>\n",
       "      <th>6928</th>\n",
       "      <td>Bouilloire sans fil - Puissance:  2200 W - Cap...</td>\n",
       "      <td>Bouilloire en verre / Gris - Art &amp; Cuisine BV22G</td>\n",
       "      <td>A&amp;C Home</td>\n",
       "      <td>21500.00</td>\n",
       "      <td>1000003662</td>\n",
       "      <td>BOUILLOIRE ELECTRIQUE</td>\n",
       "    </tr>\n",
       "    <tr>\n",
       "      <th>3422</th>\n",
       "      <td>LIVRAISON INCLUSE Portique métal/bois 2,30 m 3...</td>\n",
       "      <td>Portique bois/métal 2,30 m 3 agres + 1 PF+ tipi</td>\n",
       "      <td>TRIGANO</td>\n",
       "      <td>356.99</td>\n",
       "      <td>1000002072</td>\n",
       "      <td>BALANCOIRE - PORTIQUE - STATION DE JEUX</td>\n",
       "    </tr>\n",
       "    <tr>\n",
       "      <th>26260</th>\n",
       "      <td>Lit complet composé d'1 cadre de lit, de 2 mat...</td>\n",
       "      <td>Lit complet avec coffre Gris 140x190cm Cosmo</td>\n",
       "      <td>AUCUNE</td>\n",
       "      <td>281100.00</td>\n",
       "      <td>1000015782</td>\n",
       "      <td>LIT COMPLET - MEUBLE ET SOMMIER - MEUBLE ET SO...</td>\n",
       "    </tr>\n",
       "    <tr>\n",
       "      <th>1569</th>\n",
       "      <td>Adhésif PVC toile orange 75X33</td>\n",
       "      <td>Adhésif PVC toile orange 75X33</td>\n",
       "      <td>AUCUNE</td>\n",
       "      <td>4.80</td>\n",
       "      <td>1000001535</td>\n",
       "      <td>RUBAN ADHESIF - ADHESIF PALETTISATION</td>\n",
       "    </tr>\n",
       "  </tbody>\n",
       "</table>\n",
       "</div>"
      ],
      "text/plain": [
       "                                             Description  \\\n",
       "20189      Le centenaire de la Grande Guerre - Jean Huon   \n",
       "6928   Bouilloire sans fil - Puissance:  2200 W - Cap...   \n",
       "3422   LIVRAISON INCLUSE Portique métal/bois 2,30 m 3...   \n",
       "26260  Lit complet composé d'1 cadre de lit, de 2 mat...   \n",
       "1569                      Adhésif PVC toile orange 75X33   \n",
       "\n",
       "                                                Libelle    Marque       prix  \\\n",
       "20189                            14-18 La guerre totale    AUCUNE      24.90   \n",
       "6928   Bouilloire en verre / Gris - Art & Cuisine BV22G  A&C Home   21500.00   \n",
       "3422    Portique bois/métal 2,30 m 3 agres + 1 PF+ tipi   TRIGANO     356.99   \n",
       "26260      Lit complet avec coffre Gris 140x190cm Cosmo    AUCUNE  281100.00   \n",
       "1569                     Adhésif PVC toile orange 75X33    AUCUNE       4.80   \n",
       "\n",
       "       Categorie3                                    Categorie3_Name  \n",
       "20189  1000014152                                 HISTOIRE DE FRANCE  \n",
       "6928   1000003662                              BOUILLOIRE ELECTRIQUE  \n",
       "3422   1000002072           BALANCOIRE - PORTIQUE - STATION DE JEUX   \n",
       "26260  1000015782  LIT COMPLET - MEUBLE ET SOMMIER - MEUBLE ET SO...  \n",
       "1569   1000001535              RUBAN ADHESIF - ADHESIF PALETTISATION  "
      ]
     },
     "execution_count": 4,
     "metadata": {},
     "output_type": "execute_result"
    }
   ],
   "source": [
    "train.head()"
   ]
  },
  {
   "cell_type": "code",
   "execution_count": 5,
   "metadata": {},
   "outputs": [
    {
     "data": {
      "text/plain": [
       "((20362, 6), (6788, 6))"
      ]
     },
     "execution_count": 5,
     "metadata": {},
     "output_type": "execute_result"
    }
   ],
   "source": [
    "train.shape, test.shape\n"
   ]
  },
  {
   "cell_type": "code",
   "execution_count": 6,
   "metadata": {},
   "outputs": [],
   "source": [
    "from sklearn.metrics import accuracy_score\n",
    "from sklearn.linear_model import SGDClassifier\n",
    "from sklearn.naive_bayes import MultinomialNB\n",
    "from sklearn.feature_extraction.text import CountVectorizer\n"
   ]
  },
  {
   "cell_type": "raw",
   "metadata": {},
   "source": [
    "Le naive bayes multinomial classifieur est approprié pour la classification avec des features discretes (comptage des mots pour la classification de texte).\n",
    "La distribution multinomiale nécessite habituellement des nombres entiers.  \n",
    "Cependant, en pratique on peut également faire des counts tel que tf-idf."
   ]
  },
  {
   "cell_type": "code",
   "execution_count": 7,
   "metadata": {},
   "outputs": [],
   "source": [
    "model = MultinomialNB()"
   ]
  },
  {
   "cell_type": "markdown",
   "metadata": {},
   "source": [
    "# Un premier modèle bag of words"
   ]
  },
  {
   "cell_type": "code",
   "execution_count": 8,
   "metadata": {},
   "outputs": [
    {
     "data": {
      "text/plain": [
       "CountVectorizer(analyzer='word', binary=False, decode_error='strict',\n",
       "                dtype=<class 'numpy.int64'>, encoding='utf-8', input='content',\n",
       "                lowercase=True, max_df=1.0, max_features=None, min_df=1,\n",
       "                ngram_range=(1, 1), preprocessor=None, stop_words=None,\n",
       "                strip_accents=None, token_pattern='(?u)\\\\b\\\\w\\\\w+\\\\b',\n",
       "                tokenizer=None, vocabulary=None)"
      ]
     },
     "execution_count": 8,
     "metadata": {},
     "output_type": "execute_result"
    }
   ],
   "source": [
    "#matrice des occurences des mots\n",
    "vectorizer = CountVectorizer()\n",
    "vectorizer"
   ]
  },
  {
   "cell_type": "code",
   "execution_count": 28,
   "metadata": {},
   "outputs": [
    {
     "data": {
      "text/plain": [
       "MultinomialNB(alpha=1.0, class_prior=None, fit_prior=True)"
      ]
     },
     "execution_count": 28,
     "metadata": {},
     "output_type": "execute_result"
    }
   ],
   "source": [
    "# entrainer un premier modele simple sur le Libelle de l'article\n",
    "X_train = vectorizer.fit_transform(train['Libelle'])#train.Libelle\n",
    "X_test = vectorizer.transform(test['Libelle'])\n",
    "y_train = train['Categorie3']\n",
    "y_test = test['Categorie3']\n",
    "\n",
    "model.fit(X_train, y_train)"
   ]
  },
  {
   "cell_type": "code",
   "execution_count": 29,
   "metadata": {},
   "outputs": [
    {
     "data": {
      "text/plain": [
       "108727"
      ]
     },
     "execution_count": 29,
     "metadata": {},
     "output_type": "execute_result"
    }
   ],
   "source": [
    "len(X_train.data)"
   ]
  },
  {
   "cell_type": "code",
   "execution_count": 30,
   "metadata": {},
   "outputs": [
    {
     "data": {
      "text/plain": [
       "0.642899233942251"
      ]
     },
     "execution_count": 30,
     "metadata": {},
     "output_type": "execute_result"
    }
   ],
   "source": [
    "# ajuster le modele en prenant comme features le modele vectorisé et comme target la categorie3\n",
    "model.score(X_test, y_test)"
   ]
  },
  {
   "cell_type": "code",
   "execution_count": 36,
   "metadata": {
    "scrolled": true
   },
   "outputs": [
    {
     "name": "stdout",
     "output_type": "stream",
     "text": [
      "0.642899233942251\n"
     ]
    }
   ],
   "source": [
    "#print 'Accuracy : %.4f'%accuracy_score(test.Categorie3, model.predict(X_test))\n",
    "print(accuracy_score(y_test, model.predict(X_test)))\n",
    "#print(\"Accuracy: \" + str(accuracy_score(test.Categorie3, X_test) * 100) + \"%\")"
   ]
  },
  {
   "cell_type": "markdown",
   "metadata": {},
   "source": [
    "# Autres champs"
   ]
  },
  {
   "cell_type": "code",
   "execution_count": 24,
   "metadata": {},
   "outputs": [],
   "source": [
    "#Copie de dataframe\n",
    "train_copie = train.copy()\n",
    "test_copie = test.copy()"
   ]
  },
  {
   "cell_type": "code",
   "execution_count": 15,
   "metadata": {
    "collapsed": true
   },
   "outputs": [
    {
     "data": {
      "text/html": [
       "<div>\n",
       "<style scoped>\n",
       "    .dataframe tbody tr th:only-of-type {\n",
       "        vertical-align: middle;\n",
       "    }\n",
       "\n",
       "    .dataframe tbody tr th {\n",
       "        vertical-align: top;\n",
       "    }\n",
       "\n",
       "    .dataframe thead th {\n",
       "        text-align: right;\n",
       "    }\n",
       "</style>\n",
       "<table border=\"1\" class=\"dataframe\">\n",
       "  <thead>\n",
       "    <tr style=\"text-align: right;\">\n",
       "      <th></th>\n",
       "      <th>Description</th>\n",
       "      <th>Libelle</th>\n",
       "      <th>Marque</th>\n",
       "      <th>prix</th>\n",
       "      <th>Categorie3</th>\n",
       "      <th>Categorie3_Name</th>\n",
       "    </tr>\n",
       "  </thead>\n",
       "  <tbody>\n",
       "    <tr>\n",
       "      <th>20189</th>\n",
       "      <td>Le centenaire de la Grande Guerre - Jean Huon</td>\n",
       "      <td>14-18 La guerre totale</td>\n",
       "      <td>AUCUNE</td>\n",
       "      <td>24.90</td>\n",
       "      <td>1000014152</td>\n",
       "      <td>HISTOIRE DE FRANCE</td>\n",
       "    </tr>\n",
       "    <tr>\n",
       "      <th>6928</th>\n",
       "      <td>Bouilloire sans fil - Puissance:  2200 W - Cap...</td>\n",
       "      <td>Bouilloire en verre / Gris - Art &amp; Cuisine BV22G</td>\n",
       "      <td>A&amp;C Home</td>\n",
       "      <td>21500.00</td>\n",
       "      <td>1000003662</td>\n",
       "      <td>BOUILLOIRE ELECTRIQUE</td>\n",
       "    </tr>\n",
       "    <tr>\n",
       "      <th>3422</th>\n",
       "      <td>LIVRAISON INCLUSE Portique métal/bois 2,30 m 3...</td>\n",
       "      <td>Portique bois/métal 2,30 m 3 agres + 1 PF+ tipi</td>\n",
       "      <td>TRIGANO</td>\n",
       "      <td>356.99</td>\n",
       "      <td>1000002072</td>\n",
       "      <td>BALANCOIRE - PORTIQUE - STATION DE JEUX</td>\n",
       "    </tr>\n",
       "    <tr>\n",
       "      <th>26260</th>\n",
       "      <td>Lit complet composé d'1 cadre de lit, de 2 mat...</td>\n",
       "      <td>Lit complet avec coffre Gris 140x190cm Cosmo</td>\n",
       "      <td>AUCUNE</td>\n",
       "      <td>281100.00</td>\n",
       "      <td>1000015782</td>\n",
       "      <td>LIT COMPLET - MEUBLE ET SOMMIER - MEUBLE ET SO...</td>\n",
       "    </tr>\n",
       "    <tr>\n",
       "      <th>1569</th>\n",
       "      <td>Adhésif PVC toile orange 75X33</td>\n",
       "      <td>Adhésif PVC toile orange 75X33</td>\n",
       "      <td>AUCUNE</td>\n",
       "      <td>4.80</td>\n",
       "      <td>1000001535</td>\n",
       "      <td>RUBAN ADHESIF - ADHESIF PALETTISATION</td>\n",
       "    </tr>\n",
       "    <tr>\n",
       "      <th>3065</th>\n",
       "      <td>Bac reser eau living ca 35 r0ul rouge</td>\n",
       "      <td>Bac à réserve d'eau living ca 35 roul rouge</td>\n",
       "      <td>DECO &amp; TENDANCE</td>\n",
       "      <td>21500.00</td>\n",
       "      <td>1000002002</td>\n",
       "      <td>JARDINIERE - POT DE FLEUR - CACHE-POT</td>\n",
       "    </tr>\n",
       "    <tr>\n",
       "      <th>241</th>\n",
       "      <td>ORIGAMI STAR version tout compris 4h ou 80€ - ...</td>\n",
       "      <td>ORIGAMI STAR version tout compris 4h ou 80€ - ...</td>\n",
       "      <td>AUCUNE</td>\n",
       "      <td>85.00</td>\n",
       "      <td>1326</td>\n",
       "      <td>ORANGE</td>\n",
       "    </tr>\n",
       "    <tr>\n",
       "      <th>15172</th>\n",
       "      <td>Ordinateur Portable Toshiba Satellite Pro C50-...</td>\n",
       "      <td>SATELLITE PRO C50-A-153</td>\n",
       "      <td>TOSHIBA</td>\n",
       "      <td>-1.00</td>\n",
       "      <td>1000011418</td>\n",
       "      <td>ORDINATEUR PORTABLE</td>\n",
       "    </tr>\n",
       "    <tr>\n",
       "      <th>1734</th>\n",
       "      <td>Motif just married - Carton -34 cm - 6 pièces ...</td>\n",
       "      <td>SANTEX Set de Table Just Married Blanc</td>\n",
       "      <td>SANTEX</td>\n",
       "      <td>3.49</td>\n",
       "      <td>1000001714</td>\n",
       "      <td>LINGE DE TABLE JETABLE - INTISSE</td>\n",
       "    </tr>\n",
       "    <tr>\n",
       "      <th>13841</th>\n",
       "      <td>Short 100 % coton, orange.</td>\n",
       "      <td>TRIPLIX Short Enfan 10 ans</td>\n",
       "      <td>TRIPLIX</td>\n",
       "      <td>12400.00</td>\n",
       "      <td>1000010524</td>\n",
       "      <td>SHORT</td>\n",
       "    </tr>\n",
       "    <tr>\n",
       "      <th>24132</th>\n",
       "      <td>Primo</td>\n",
       "      <td>Les enquêtes de l'agence Philéo</td>\n",
       "      <td>AUCUNE</td>\n",
       "      <td>12.00</td>\n",
       "      <td>1000014347</td>\n",
       "      <td>9 -12 ANS</td>\n",
       "    </tr>\n",
       "    <tr>\n",
       "      <th>18186</th>\n",
       "      <td>Anne-Marie Peysson</td>\n",
       "      <td>1001 Trucs et astuces de nos grand-mères</td>\n",
       "      <td>AUCUNE</td>\n",
       "      <td>25.00</td>\n",
       "      <td>1000014056</td>\n",
       "      <td>ARTS MENAGERS</td>\n",
       "    </tr>\n",
       "    <tr>\n",
       "      <th>18643</th>\n",
       "      <td>Marabout côté cuisine</td>\n",
       "      <td>Le champignon en cuisine</td>\n",
       "      <td>AUCUNE</td>\n",
       "      <td>19.90</td>\n",
       "      <td>1000014079</td>\n",
       "      <td>ENTREES</td>\n",
       "    </tr>\n",
       "    <tr>\n",
       "      <th>24415</th>\n",
       "      <td>Couverture en polypropylène collé et soudé Poc...</td>\n",
       "      <td>Esselte 10 classeurs couverture 4 cm D40 BLC 5...</td>\n",
       "      <td>ESSELTE</td>\n",
       "      <td>33.00</td>\n",
       "      <td>1000014398</td>\n",
       "      <td>CLASSEUR</td>\n",
       "    </tr>\n",
       "    <tr>\n",
       "      <th>18236</th>\n",
       "      <td>Best of Système D</td>\n",
       "      <td>Le chauffage</td>\n",
       "      <td>AUCUNE</td>\n",
       "      <td>10.00</td>\n",
       "      <td>1000014058</td>\n",
       "      <td>BRICOLAGE</td>\n",
       "    </tr>\n",
       "    <tr>\n",
       "      <th>9792</th>\n",
       "      <td>Essuie-glace Bosch Balai N°36 - 55cm - ALFA RO...</td>\n",
       "      <td>BOSCH Essuie-glace Citroën Fiat Peugeot Renault</td>\n",
       "      <td>BOSCH</td>\n",
       "      <td>12500.00</td>\n",
       "      <td>1000005724</td>\n",
       "      <td>BALAI D'ESSUIE GLACE</td>\n",
       "    </tr>\n",
       "    <tr>\n",
       "      <th>17614</th>\n",
       "      <td>De Edoardo Villata - Margherita Romagnoli aux ...</td>\n",
       "      <td>Les Carnets de Léonard</td>\n",
       "      <td>AUCUNE</td>\n",
       "      <td>35.50</td>\n",
       "      <td>1000014030</td>\n",
       "      <td>BEAUX-ARTS</td>\n",
       "    </tr>\n",
       "    <tr>\n",
       "      <th>13768</th>\n",
       "      <td>Jupe à volants, 100 % coton, blanc, rouge et v...</td>\n",
       "      <td>DPAM Jupe volants Fille 3 mois</td>\n",
       "      <td>DU PAREIL AU MEME</td>\n",
       "      <td>5.50</td>\n",
       "      <td>1000010521</td>\n",
       "      <td>JUPE - KILT</td>\n",
       "    </tr>\n",
       "    <tr>\n",
       "      <th>1496</th>\n",
       "      <td>Couches Pampers Baby Dry Taille 4+ (Maxi+) 9 à...</td>\n",
       "      <td>PAMPERS Baby Dry Taille 4+ (Maxi+) 9 à 20 kg c...</td>\n",
       "      <td>PAMPERS</td>\n",
       "      <td>31.99</td>\n",
       "      <td>1000000804</td>\n",
       "      <td>COUCHE JETABLE - COUCHE DAPPRENTISSAGE</td>\n",
       "    </tr>\n",
       "    <tr>\n",
       "      <th>2363</th>\n",
       "      <td>Renne blanc debout avec écharpe rouge.</td>\n",
       "      <td>Renne blanc debout avec écharpe rouge</td>\n",
       "      <td>AUCUNE</td>\n",
       "      <td>24900.00</td>\n",
       "      <td>1000001834</td>\n",
       "      <td>BOULE DE NOEL - GUIRLANDE - KIT NOEL</td>\n",
       "    </tr>\n",
       "    <tr>\n",
       "      <th>23835</th>\n",
       "      <td>Voiles</td>\n",
       "      <td>Les merveilleuses îles d'Antoine</td>\n",
       "      <td>AUCUNE</td>\n",
       "      <td>5.06</td>\n",
       "      <td>1000014326</td>\n",
       "      <td>TOURISME A L'ETRANGER</td>\n",
       "    </tr>\n",
       "    <tr>\n",
       "      <th>13805</th>\n",
       "      <td>Short 100 % coton, saumon.</td>\n",
       "      <td>PIK OUIC Short Legging Béb 6 mois</td>\n",
       "      <td>PIK OUIC</td>\n",
       "      <td>5.00</td>\n",
       "      <td>1000010524</td>\n",
       "      <td>SHORT</td>\n",
       "    </tr>\n",
       "    <tr>\n",
       "      <th>11585</th>\n",
       "      <td>Saison 2 - Papillon LLP  épanoui, il bat des a...</td>\n",
       "      <td>LLP Papillon + Fleur Ventouse Ailes Précieuses...</td>\n",
       "      <td>KANAI KIDS</td>\n",
       "      <td>13400.00</td>\n",
       "      <td>1000008947</td>\n",
       "      <td>ROBOT- PERSONNAGE - ANIMAL ANIME</td>\n",
       "    </tr>\n",
       "    <tr>\n",
       "      <th>2969</th>\n",
       "      <td>LIVRAISON INCLUSE Table bar en aluminium + 4 F...</td>\n",
       "      <td>PACIFIC Table bar + 4 Fauteuils haut bar noir ...</td>\n",
       "      <td>AUCUNE</td>\n",
       "      <td>397.90</td>\n",
       "      <td>1000001972</td>\n",
       "      <td>SALON DE JARDIN - ENSEMBLE TABLE CHAISE FAUTEUIL</td>\n",
       "    </tr>\n",
       "    <tr>\n",
       "      <th>26956</th>\n",
       "      <td>Coffret comprenant Sèche Cheveux et Lisseur : ...</td>\n",
       "      <td>Coffret Beauté Sèche Cheveux et Lisseur</td>\n",
       "      <td>TECHWOOD</td>\n",
       "      <td>14000.00</td>\n",
       "      <td>1000016912</td>\n",
       "      <td>SECHE-CHEVEUX</td>\n",
       "    </tr>\n",
       "    <tr>\n",
       "      <th>4251</th>\n",
       "      <td>SOHO Meuble TV + étagère - Coloris décor bruge...</td>\n",
       "      <td>SOHO Meuble TV mural 152 cm décor Bruges compr...</td>\n",
       "      <td>AUCUNE</td>\n",
       "      <td>138.09</td>\n",
       "      <td>1000002606</td>\n",
       "      <td>MEUBLE TV - HI-FI</td>\n",
       "    </tr>\n",
       "    <tr>\n",
       "      <th>1233</th>\n",
       "      <td>GRAND MERE Dosettes Matin Généreux - 2 paquets...</td>\n",
       "      <td>GRAND MERE 36 Dosettes Matin Généreux (x2)</td>\n",
       "      <td>GRAND'MERE</td>\n",
       "      <td>5.44</td>\n",
       "      <td>1000000591</td>\n",
       "      <td>CAFE - CHICOREE</td>\n",
       "    </tr>\n",
       "    <tr>\n",
       "      <th>1031</th>\n",
       "      <td>Dès la naissance - Garçon et fille - Livré à l...</td>\n",
       "      <td>BABYCALIN Douillette Naissance Prema Ecru</td>\n",
       "      <td>BABYCALIN</td>\n",
       "      <td>12400.00</td>\n",
       "      <td>1000000526</td>\n",
       "      <td>GIGOTEUSE - DOUILLETTE - TURBULETTE</td>\n",
       "    </tr>\n",
       "    <tr>\n",
       "      <th>26288</th>\n",
       "      <td>Lit L160 cm FIRST en panneaux de particules ép...</td>\n",
       "      <td>FIRST Lit adulte 160 laqué noir</td>\n",
       "      <td>AUCUNE</td>\n",
       "      <td>205.49</td>\n",
       "      <td>1000015782</td>\n",
       "      <td>LIT COMPLET - MEUBLE ET SOMMIER - MEUBLE ET SO...</td>\n",
       "    </tr>\n",
       "    <tr>\n",
       "      <th>23914</th>\n",
       "      <td>Colette Pioch</td>\n",
       "      <td>Prénoms, Mémoire de Notre Futur</td>\n",
       "      <td>AUCUNE</td>\n",
       "      <td>18.00</td>\n",
       "      <td>1000014331</td>\n",
       "      <td>ENFANT - FAMILLE</td>\n",
       "    </tr>\n",
       "    <tr>\n",
       "      <th>...</th>\n",
       "      <td>...</td>\n",
       "      <td>...</td>\n",
       "      <td>...</td>\n",
       "      <td>...</td>\n",
       "      <td>...</td>\n",
       "      <td>...</td>\n",
       "    </tr>\n",
       "    <tr>\n",
       "      <th>25860</th>\n",
       "      <td>VASQUE MARA BLEU FONCE</td>\n",
       "      <td>Vasque en verre Mara Ø40x14cm Bleu foncée</td>\n",
       "      <td>AUCUNE</td>\n",
       "      <td>38900.00</td>\n",
       "      <td>1000015666</td>\n",
       "      <td>LAVABO - VASQUE</td>\n",
       "    </tr>\n",
       "    <tr>\n",
       "      <th>14286</th>\n",
       "      <td>Pantacourt legging, gris foncé.</td>\n",
       "      <td>WKD WOMAN Pantacourt Femme L</td>\n",
       "      <td>BRONZINI</td>\n",
       "      <td>5.00</td>\n",
       "      <td>1000010558</td>\n",
       "      <td>PANTACOURT</td>\n",
       "    </tr>\n",
       "    <tr>\n",
       "      <th>21751</th>\n",
       "      <td>Déontologie pratique et vécue du journalisme d...</td>\n",
       "      <td>Responsables...</td>\n",
       "      <td>AUCUNE</td>\n",
       "      <td>20.00</td>\n",
       "      <td>1000014226</td>\n",
       "      <td>SPORT</td>\n",
       "    </tr>\n",
       "    <tr>\n",
       "      <th>2317</th>\n",
       "      <td>Tapis Pierre Cardin - collection LUCIDA - styl...</td>\n",
       "      <td>Tapis de collection LUCIDA Pierre Cardin-120*180</td>\n",
       "      <td>PIERRE CARDIN DECORATION</td>\n",
       "      <td>189.99</td>\n",
       "      <td>1000001831</td>\n",
       "      <td>TAPIS - DESSOUS DE TAPIS</td>\n",
       "    </tr>\n",
       "    <tr>\n",
       "      <th>2757</th>\n",
       "      <td>Adaptateur pour robinet d'intérieur - S'adapte...</td>\n",
       "      <td>GARDENA Adaptateur 8187-20</td>\n",
       "      <td>GARDENA</td>\n",
       "      <td>8300.00</td>\n",
       "      <td>1000001921</td>\n",
       "      <td>TUYAU - BUSE - TETE ARROSAGE - ACCESSOIRE</td>\n",
       "    </tr>\n",
       "    <tr>\n",
       "      <th>22300</th>\n",
       "      <td>J'ai lu Bien-être</td>\n",
       "      <td>Les bienfaits du régime crétois</td>\n",
       "      <td>AUCUNE</td>\n",
       "      <td>6.86</td>\n",
       "      <td>1000014257</td>\n",
       "      <td>ALIMENTATION - REGIME</td>\n",
       "    </tr>\n",
       "    <tr>\n",
       "      <th>13248</th>\n",
       "      <td>Casquette avec visière plate, gris et blanc, l...</td>\n",
       "      <td>VANS Casquette Dunsmore Homme</td>\n",
       "      <td>VANS</td>\n",
       "      <td>9.38</td>\n",
       "      <td>1000010334</td>\n",
       "      <td>CASQUETTE</td>\n",
       "    </tr>\n",
       "    <tr>\n",
       "      <th>4668</th>\n",
       "      <td>Chaise de bureau design pour enfants - Réglage...</td>\n",
       "      <td>TOPSTAR Siège enfant Open Art Junior vert-pomme</td>\n",
       "      <td>AUCUNE</td>\n",
       "      <td>234400.00</td>\n",
       "      <td>1000002650</td>\n",
       "      <td>CHAISE - FAUTEUIL DE BUREAU</td>\n",
       "    </tr>\n",
       "    <tr>\n",
       "      <th>13429</th>\n",
       "      <td>Synthétique - Argent, bleu et fushia</td>\n",
       "      <td>BARBIE Sandales Enfant 25</td>\n",
       "      <td>AUCUNE</td>\n",
       "      <td>12800.00</td>\n",
       "      <td>1000010393</td>\n",
       "      <td>SANDALE - NU-PIEDS</td>\n",
       "    </tr>\n",
       "    <tr>\n",
       "      <th>26408</th>\n",
       "      <td>Aspirateur poussière VC6 - Marque KARCHER - Pl...</td>\n",
       "      <td>KÄRCHER Aspirateur poussière VC6</td>\n",
       "      <td>KARCHER</td>\n",
       "      <td>279500.00</td>\n",
       "      <td>1000015820</td>\n",
       "      <td>ASPIRATEUR TRAINEAU</td>\n",
       "    </tr>\n",
       "    <tr>\n",
       "      <th>24978</th>\n",
       "      <td>Cahier couverture rigide- A4 - papier ligné - ...</td>\n",
       "      <td>LEITZ Cahier Couverture Rigide WOW A4 Ligné Bleu</td>\n",
       "      <td>LEITZ</td>\n",
       "      <td>6.10</td>\n",
       "      <td>1000014692</td>\n",
       "      <td>CAHIER</td>\n",
       "    </tr>\n",
       "    <tr>\n",
       "      <th>11103</th>\n",
       "      <td>Clementoni - Pour jouer à 1, 2, 3 Soleil ! à l...</td>\n",
       "      <td>1.2.3 Soleil</td>\n",
       "      <td>CLEMENTONI</td>\n",
       "      <td>27100.00</td>\n",
       "      <td>1000008852</td>\n",
       "      <td>JEU DE SOCIETE - JEU DE PLATEAU</td>\n",
       "    </tr>\n",
       "    <tr>\n",
       "      <th>24783</th>\n",
       "      <td>BIC Pochette de 12 feutres à dessin pointe moy...</td>\n",
       "      <td>BIC Pochette 12 feutres à dessin</td>\n",
       "      <td>BIC</td>\n",
       "      <td>2.57</td>\n",
       "      <td>1000014526</td>\n",
       "      <td>MARQUEUR - MARQUEUR-FEUTRE</td>\n",
       "    </tr>\n",
       "    <tr>\n",
       "      <th>5068</th>\n",
       "      <td>Agrafes VR16 Galva - Boite carton de 3190 pièc...</td>\n",
       "      <td>RAPID 3190 agrafes VR16 galvanisées</td>\n",
       "      <td>RAPID</td>\n",
       "      <td>12800.00</td>\n",
       "      <td>1000002878</td>\n",
       "      <td>AGRAFE</td>\n",
       "    </tr>\n",
       "    <tr>\n",
       "      <th>5424</th>\n",
       "      <td>Boite à outils Touch latch 60cm + 2 bacs - Mar...</td>\n",
       "      <td>STANLEY Boite à outils Touch latch 60cm + 2 bacs</td>\n",
       "      <td>STANLEY</td>\n",
       "      <td>43900.00</td>\n",
       "      <td>1000002946</td>\n",
       "      <td>GENERAL (BOITE A OUTIL - CAISSE A OUTIL - COFF...</td>\n",
       "    </tr>\n",
       "    <tr>\n",
       "      <th>23111</th>\n",
       "      <td>Détection et quantification des Legionella et/...</td>\n",
       "      <td>Norme expérimentale XP T90-471 Qualité de l'eau</td>\n",
       "      <td>AUCUNE</td>\n",
       "      <td>64.00</td>\n",
       "      <td>1000014296</td>\n",
       "      <td>PHYSIQUE - CHIMIE</td>\n",
       "    </tr>\n",
       "    <tr>\n",
       "      <th>11212</th>\n",
       "      <td>MEMO BARBAPAPA - Le jeu de mémorisation avec 3...</td>\n",
       "      <td>BARBAPAPA - Mémo Boîte spéciale - Jeu éducatif</td>\n",
       "      <td>DUJARDIN</td>\n",
       "      <td>12100.00</td>\n",
       "      <td>1000008872</td>\n",
       "      <td>DOMINOS - MEMORY - LOTO</td>\n",
       "    </tr>\n",
       "    <tr>\n",
       "      <th>14022</th>\n",
       "      <td>Polo manches courtes - 100% coton - Bleu.</td>\n",
       "      <td>TOMMY HILFIGER Polo Homme L</td>\n",
       "      <td>TOMMY HILFIGER</td>\n",
       "      <td>41100.00</td>\n",
       "      <td>1000010535</td>\n",
       "      <td>POLO</td>\n",
       "    </tr>\n",
       "    <tr>\n",
       "      <th>15880</th>\n",
       "      <td>100% Acrylique - Facile à entretenir</td>\n",
       "      <td>BERGERE DE FRANCE Barisienne Igloo Fil Tricot</td>\n",
       "      <td>BERGERE DE FRANCE</td>\n",
       "      <td>2.29</td>\n",
       "      <td>1000012143</td>\n",
       "      <td>LAINE A TRICOTER - PELOTE</td>\n",
       "    </tr>\n",
       "    <tr>\n",
       "      <th>9827</th>\n",
       "      <td>Batterie Yuasa identique à l'origine convient ...</td>\n",
       "      <td>YUASA - BATTERIE YB14A-A2 L 135mm W 91mm H 176mm</td>\n",
       "      <td>YUASA</td>\n",
       "      <td>55.03</td>\n",
       "      <td>1000005732</td>\n",
       "      <td>BATTERIE VEHICULE</td>\n",
       "    </tr>\n",
       "    <tr>\n",
       "      <th>15577</th>\n",
       "      <td>Coque compatible Peugeot / Citroen 2 boutons, ...</td>\n",
       "      <td>Coque + lame compatible PSA 2 boutons</td>\n",
       "      <td>AUCUNE</td>\n",
       "      <td>9.99</td>\n",
       "      <td>1000012028</td>\n",
       "      <td>BOITIER - COQUE DE CLE - TELECOMMANDE</td>\n",
       "    </tr>\n",
       "    <tr>\n",
       "      <th>12106</th>\n",
       "      <td>Set de 3 Valises 4 roues Noir ABS. Formats : C...</td>\n",
       "      <td>TRAVEL ONE Set de 3 Valises New Delhi</td>\n",
       "      <td>TRAVEL ONE</td>\n",
       "      <td>92000.00</td>\n",
       "      <td>1000010024</td>\n",
       "      <td>SET DE VALISES</td>\n",
       "    </tr>\n",
       "    <tr>\n",
       "      <th>23669</th>\n",
       "      <td>22 itinéraires reconnus dont une via ferrata -...</td>\n",
       "      <td>Randonnées le long du Val de Bienne et autour ...</td>\n",
       "      <td>AUCUNE</td>\n",
       "      <td>13.95</td>\n",
       "      <td>1000014320</td>\n",
       "      <td>RANDONNEES</td>\n",
       "    </tr>\n",
       "    <tr>\n",
       "      <th>23867</th>\n",
       "      <td>De Michel Field - Julie Cleau aux éditions ROB...</td>\n",
       "      <td>Le livre des rencontres</td>\n",
       "      <td>AUCUNE</td>\n",
       "      <td>19.00</td>\n",
       "      <td>1000014329</td>\n",
       "      <td>COUPLE</td>\n",
       "    </tr>\n",
       "    <tr>\n",
       "      <th>6118</th>\n",
       "      <td>Table basse bois naturel de paulownia 50 x 50 ...</td>\n",
       "      <td>Table basse bois naturel 50 x 50 x 45 cm</td>\n",
       "      <td>J. LINE</td>\n",
       "      <td>116800.00</td>\n",
       "      <td>1000003246</td>\n",
       "      <td>TABLE BASSE</td>\n",
       "    </tr>\n",
       "    <tr>\n",
       "      <th>18257</th>\n",
       "      <td>De Jean-Pierre Coffe aux éditions PLON</td>\n",
       "      <td>Le potager plaisir</td>\n",
       "      <td>AUCUNE</td>\n",
       "      <td>27.50</td>\n",
       "      <td>1000014062</td>\n",
       "      <td>JARDINAGE</td>\n",
       "    </tr>\n",
       "    <tr>\n",
       "      <th>7355</th>\n",
       "      <td>Cuisinière vitrocéramique - 50x60cm -  4 foyer...</td>\n",
       "      <td>Continental Edison Cuisinière CVMC5060W</td>\n",
       "      <td>CONTINENTAL EDISON</td>\n",
       "      <td>265.69</td>\n",
       "      <td>1000003798</td>\n",
       "      <td>CUISINIERE - PIANO DE CUISINE</td>\n",
       "    </tr>\n",
       "    <tr>\n",
       "      <th>22262</th>\n",
       "      <td>Khalil Gibran</td>\n",
       "      <td>Le Prophète</td>\n",
       "      <td>AUCUNE</td>\n",
       "      <td>17.89</td>\n",
       "      <td>1000014252</td>\n",
       "      <td>RELIGION</td>\n",
       "    </tr>\n",
       "    <tr>\n",
       "      <th>24096</th>\n",
       "      <td>Suivez le guide !! Instruments de musique d'ic...</td>\n",
       "      <td>Suivez le guide !!</td>\n",
       "      <td>AUCUNE</td>\n",
       "      <td>21.00</td>\n",
       "      <td>1000014343</td>\n",
       "      <td>CIRQUE</td>\n",
       "    </tr>\n",
       "    <tr>\n",
       "      <th>11873</th>\n",
       "      <td>SCOTCHI \"Les Formes\" de LUDI. Mixte. A partir ...</td>\n",
       "      <td>SCOTCHI \"Les Formes\" de LUDI</td>\n",
       "      <td>LUDI</td>\n",
       "      <td>12400.00</td>\n",
       "      <td>1000009096</td>\n",
       "      <td>JEU D'EVEIL EDUCATIF - PEDAGOGIQUE</td>\n",
       "    </tr>\n",
       "  </tbody>\n",
       "</table>\n",
       "<p>20362 rows × 6 columns</p>\n",
       "</div>"
      ],
      "text/plain": [
       "                                             Description  \\\n",
       "20189      Le centenaire de la Grande Guerre - Jean Huon   \n",
       "6928   Bouilloire sans fil - Puissance:  2200 W - Cap...   \n",
       "3422   LIVRAISON INCLUSE Portique métal/bois 2,30 m 3...   \n",
       "26260  Lit complet composé d'1 cadre de lit, de 2 mat...   \n",
       "1569                      Adhésif PVC toile orange 75X33   \n",
       "3065               Bac reser eau living ca 35 r0ul rouge   \n",
       "241    ORIGAMI STAR version tout compris 4h ou 80€ - ...   \n",
       "15172  Ordinateur Portable Toshiba Satellite Pro C50-...   \n",
       "1734   Motif just married - Carton -34 cm - 6 pièces ...   \n",
       "13841                         Short 100 % coton, orange.   \n",
       "24132                                              Primo   \n",
       "18186                                 Anne-Marie Peysson   \n",
       "18643                              Marabout côté cuisine   \n",
       "24415  Couverture en polypropylène collé et soudé Poc...   \n",
       "18236                                  Best of Système D   \n",
       "9792   Essuie-glace Bosch Balai N°36 - 55cm - ALFA RO...   \n",
       "17614  De Edoardo Villata - Margherita Romagnoli aux ...   \n",
       "13768  Jupe à volants, 100 % coton, blanc, rouge et v...   \n",
       "1496   Couches Pampers Baby Dry Taille 4+ (Maxi+) 9 à...   \n",
       "2363              Renne blanc debout avec écharpe rouge.   \n",
       "23835                                             Voiles   \n",
       "13805                         Short 100 % coton, saumon.   \n",
       "11585  Saison 2 - Papillon LLP  épanoui, il bat des a...   \n",
       "2969   LIVRAISON INCLUSE Table bar en aluminium + 4 F...   \n",
       "26956  Coffret comprenant Sèche Cheveux et Lisseur : ...   \n",
       "4251   SOHO Meuble TV + étagère - Coloris décor bruge...   \n",
       "1233   GRAND MERE Dosettes Matin Généreux - 2 paquets...   \n",
       "1031   Dès la naissance - Garçon et fille - Livré à l...   \n",
       "26288  Lit L160 cm FIRST en panneaux de particules ép...   \n",
       "23914                                      Colette Pioch   \n",
       "...                                                  ...   \n",
       "25860                             VASQUE MARA BLEU FONCE   \n",
       "14286                    Pantacourt legging, gris foncé.   \n",
       "21751  Déontologie pratique et vécue du journalisme d...   \n",
       "2317   Tapis Pierre Cardin - collection LUCIDA - styl...   \n",
       "2757   Adaptateur pour robinet d'intérieur - S'adapte...   \n",
       "22300                                  J'ai lu Bien-être   \n",
       "13248  Casquette avec visière plate, gris et blanc, l...   \n",
       "4668   Chaise de bureau design pour enfants - Réglage...   \n",
       "13429               Synthétique - Argent, bleu et fushia   \n",
       "26408  Aspirateur poussière VC6 - Marque KARCHER - Pl...   \n",
       "24978  Cahier couverture rigide- A4 - papier ligné - ...   \n",
       "11103  Clementoni - Pour jouer à 1, 2, 3 Soleil ! à l...   \n",
       "24783  BIC Pochette de 12 feutres à dessin pointe moy...   \n",
       "5068   Agrafes VR16 Galva - Boite carton de 3190 pièc...   \n",
       "5424   Boite à outils Touch latch 60cm + 2 bacs - Mar...   \n",
       "23111  Détection et quantification des Legionella et/...   \n",
       "11212  MEMO BARBAPAPA - Le jeu de mémorisation avec 3...   \n",
       "14022          Polo manches courtes - 100% coton - Bleu.   \n",
       "15880               100% Acrylique - Facile à entretenir   \n",
       "9827   Batterie Yuasa identique à l'origine convient ...   \n",
       "15577  Coque compatible Peugeot / Citroen 2 boutons, ...   \n",
       "12106  Set de 3 Valises 4 roues Noir ABS. Formats : C...   \n",
       "23669  22 itinéraires reconnus dont une via ferrata -...   \n",
       "23867  De Michel Field - Julie Cleau aux éditions ROB...   \n",
       "6118   Table basse bois naturel de paulownia 50 x 50 ...   \n",
       "18257             De Jean-Pierre Coffe aux éditions PLON   \n",
       "7355   Cuisinière vitrocéramique - 50x60cm -  4 foyer...   \n",
       "22262                                      Khalil Gibran   \n",
       "24096  Suivez le guide !! Instruments de musique d'ic...   \n",
       "11873  SCOTCHI \"Les Formes\" de LUDI. Mixte. A partir ...   \n",
       "\n",
       "                                                 Libelle  \\\n",
       "20189                             14-18 La guerre totale   \n",
       "6928    Bouilloire en verre / Gris - Art & Cuisine BV22G   \n",
       "3422     Portique bois/métal 2,30 m 3 agres + 1 PF+ tipi   \n",
       "26260       Lit complet avec coffre Gris 140x190cm Cosmo   \n",
       "1569                      Adhésif PVC toile orange 75X33   \n",
       "3065         Bac à réserve d'eau living ca 35 roul rouge   \n",
       "241    ORIGAMI STAR version tout compris 4h ou 80€ - ...   \n",
       "15172                            SATELLITE PRO C50-A-153   \n",
       "1734              SANTEX Set de Table Just Married Blanc   \n",
       "13841                         TRIPLIX Short Enfan 10 ans   \n",
       "24132                    Les enquêtes de l'agence Philéo   \n",
       "18186           1001 Trucs et astuces de nos grand-mères   \n",
       "18643                           Le champignon en cuisine   \n",
       "24415  Esselte 10 classeurs couverture 4 cm D40 BLC 5...   \n",
       "18236                                       Le chauffage   \n",
       "9792     BOSCH Essuie-glace Citroën Fiat Peugeot Renault   \n",
       "17614                             Les Carnets de Léonard   \n",
       "13768                     DPAM Jupe volants Fille 3 mois   \n",
       "1496   PAMPERS Baby Dry Taille 4+ (Maxi+) 9 à 20 kg c...   \n",
       "2363               Renne blanc debout avec écharpe rouge   \n",
       "23835                   Les merveilleuses îles d'Antoine   \n",
       "13805                  PIK OUIC Short Legging Béb 6 mois   \n",
       "11585  LLP Papillon + Fleur Ventouse Ailes Précieuses...   \n",
       "2969   PACIFIC Table bar + 4 Fauteuils haut bar noir ...   \n",
       "26956            Coffret Beauté Sèche Cheveux et Lisseur   \n",
       "4251   SOHO Meuble TV mural 152 cm décor Bruges compr...   \n",
       "1233          GRAND MERE 36 Dosettes Matin Généreux (x2)   \n",
       "1031           BABYCALIN Douillette Naissance Prema Ecru   \n",
       "26288                    FIRST Lit adulte 160 laqué noir   \n",
       "23914                    Prénoms, Mémoire de Notre Futur   \n",
       "...                                                  ...   \n",
       "25860          Vasque en verre Mara Ø40x14cm Bleu foncée   \n",
       "14286                       WKD WOMAN Pantacourt Femme L   \n",
       "21751                                    Responsables...   \n",
       "2317    Tapis de collection LUCIDA Pierre Cardin-120*180   \n",
       "2757                          GARDENA Adaptateur 8187-20   \n",
       "22300                    Les bienfaits du régime crétois   \n",
       "13248                      VANS Casquette Dunsmore Homme   \n",
       "4668     TOPSTAR Siège enfant Open Art Junior vert-pomme   \n",
       "13429                          BARBIE Sandales Enfant 25   \n",
       "26408                   KÄRCHER Aspirateur poussière VC6   \n",
       "24978   LEITZ Cahier Couverture Rigide WOW A4 Ligné Bleu   \n",
       "11103                                       1.2.3 Soleil   \n",
       "24783                   BIC Pochette 12 feutres à dessin   \n",
       "5068                 RAPID 3190 agrafes VR16 galvanisées   \n",
       "5424    STANLEY Boite à outils Touch latch 60cm + 2 bacs   \n",
       "23111    Norme expérimentale XP T90-471 Qualité de l'eau   \n",
       "11212     BARBAPAPA - Mémo Boîte spéciale - Jeu éducatif   \n",
       "14022                        TOMMY HILFIGER Polo Homme L   \n",
       "15880      BERGERE DE FRANCE Barisienne Igloo Fil Tricot   \n",
       "9827    YUASA - BATTERIE YB14A-A2 L 135mm W 91mm H 176mm   \n",
       "15577              Coque + lame compatible PSA 2 boutons   \n",
       "12106              TRAVEL ONE Set de 3 Valises New Delhi   \n",
       "23669  Randonnées le long du Val de Bienne et autour ...   \n",
       "23867                            Le livre des rencontres   \n",
       "6118            Table basse bois naturel 50 x 50 x 45 cm   \n",
       "18257                                 Le potager plaisir   \n",
       "7355             Continental Edison Cuisinière CVMC5060W   \n",
       "22262                                        Le Prophète   \n",
       "24096                                 Suivez le guide !!   \n",
       "11873                       SCOTCHI \"Les Formes\" de LUDI   \n",
       "\n",
       "                         Marque       prix  Categorie3  \\\n",
       "20189                    AUCUNE      24.90  1000014152   \n",
       "6928                   A&C Home   21500.00  1000003662   \n",
       "3422                    TRIGANO     356.99  1000002072   \n",
       "26260                    AUCUNE  281100.00  1000015782   \n",
       "1569                     AUCUNE       4.80  1000001535   \n",
       "3065            DECO & TENDANCE   21500.00  1000002002   \n",
       "241                      AUCUNE      85.00        1326   \n",
       "15172                   TOSHIBA      -1.00  1000011418   \n",
       "1734                     SANTEX       3.49  1000001714   \n",
       "13841                   TRIPLIX   12400.00  1000010524   \n",
       "24132                    AUCUNE      12.00  1000014347   \n",
       "18186                    AUCUNE      25.00  1000014056   \n",
       "18643                    AUCUNE      19.90  1000014079   \n",
       "24415                   ESSELTE      33.00  1000014398   \n",
       "18236                    AUCUNE      10.00  1000014058   \n",
       "9792                      BOSCH   12500.00  1000005724   \n",
       "17614                    AUCUNE      35.50  1000014030   \n",
       "13768         DU PAREIL AU MEME       5.50  1000010521   \n",
       "1496                    PAMPERS      31.99  1000000804   \n",
       "2363                     AUCUNE   24900.00  1000001834   \n",
       "23835                    AUCUNE       5.06  1000014326   \n",
       "13805                  PIK OUIC       5.00  1000010524   \n",
       "11585                KANAI KIDS   13400.00  1000008947   \n",
       "2969                     AUCUNE     397.90  1000001972   \n",
       "26956                  TECHWOOD   14000.00  1000016912   \n",
       "4251                     AUCUNE     138.09  1000002606   \n",
       "1233                 GRAND'MERE       5.44  1000000591   \n",
       "1031                  BABYCALIN   12400.00  1000000526   \n",
       "26288                    AUCUNE     205.49  1000015782   \n",
       "23914                    AUCUNE      18.00  1000014331   \n",
       "...                         ...        ...         ...   \n",
       "25860                    AUCUNE   38900.00  1000015666   \n",
       "14286                  BRONZINI       5.00  1000010558   \n",
       "21751                    AUCUNE      20.00  1000014226   \n",
       "2317   PIERRE CARDIN DECORATION     189.99  1000001831   \n",
       "2757                    GARDENA    8300.00  1000001921   \n",
       "22300                    AUCUNE       6.86  1000014257   \n",
       "13248                      VANS       9.38  1000010334   \n",
       "4668                     AUCUNE  234400.00  1000002650   \n",
       "13429                    AUCUNE   12800.00  1000010393   \n",
       "26408                   KARCHER  279500.00  1000015820   \n",
       "24978                     LEITZ       6.10  1000014692   \n",
       "11103                CLEMENTONI   27100.00  1000008852   \n",
       "24783                       BIC       2.57  1000014526   \n",
       "5068                      RAPID   12800.00  1000002878   \n",
       "5424                    STANLEY   43900.00  1000002946   \n",
       "23111                    AUCUNE      64.00  1000014296   \n",
       "11212                  DUJARDIN   12100.00  1000008872   \n",
       "14022            TOMMY HILFIGER   41100.00  1000010535   \n",
       "15880         BERGERE DE FRANCE       2.29  1000012143   \n",
       "9827                      YUASA      55.03  1000005732   \n",
       "15577                    AUCUNE       9.99  1000012028   \n",
       "12106                TRAVEL ONE   92000.00  1000010024   \n",
       "23669                    AUCUNE      13.95  1000014320   \n",
       "23867                    AUCUNE      19.00  1000014329   \n",
       "6118                    J. LINE  116800.00  1000003246   \n",
       "18257                    AUCUNE      27.50  1000014062   \n",
       "7355         CONTINENTAL EDISON     265.69  1000003798   \n",
       "22262                    AUCUNE      17.89  1000014252   \n",
       "24096                    AUCUNE      21.00  1000014343   \n",
       "11873                      LUDI   12400.00  1000009096   \n",
       "\n",
       "                                         Categorie3_Name  \n",
       "20189                                 HISTOIRE DE FRANCE  \n",
       "6928                               BOUILLOIRE ELECTRIQUE  \n",
       "3422            BALANCOIRE - PORTIQUE - STATION DE JEUX   \n",
       "26260  LIT COMPLET - MEUBLE ET SOMMIER - MEUBLE ET SO...  \n",
       "1569               RUBAN ADHESIF - ADHESIF PALETTISATION  \n",
       "3065               JARDINIERE - POT DE FLEUR - CACHE-POT  \n",
       "241                                               ORANGE  \n",
       "15172                                ORDINATEUR PORTABLE  \n",
       "1734                    LINGE DE TABLE JETABLE - INTISSE  \n",
       "13841                                              SHORT  \n",
       "24132                                          9 -12 ANS  \n",
       "18186                                      ARTS MENAGERS  \n",
       "18643                                           ENTREES   \n",
       "24415                                           CLASSEUR  \n",
       "18236                                         BRICOLAGE   \n",
       "9792                                BALAI D'ESSUIE GLACE  \n",
       "17614                                         BEAUX-ARTS  \n",
       "13768                                        JUPE - KILT  \n",
       "1496             COUCHE JETABLE - COUCHE DAPPRENTISSAGE  \n",
       "2363                BOULE DE NOEL - GUIRLANDE - KIT NOEL  \n",
       "23835                              TOURISME A L'ETRANGER  \n",
       "13805                                              SHORT  \n",
       "11585                   ROBOT- PERSONNAGE - ANIMAL ANIME  \n",
       "2969    SALON DE JARDIN - ENSEMBLE TABLE CHAISE FAUTEUIL  \n",
       "26956                                      SECHE-CHEVEUX  \n",
       "4251                                   MEUBLE TV - HI-FI  \n",
       "1233                                     CAFE - CHICOREE  \n",
       "1031                 GIGOTEUSE - DOUILLETTE - TURBULETTE  \n",
       "26288  LIT COMPLET - MEUBLE ET SOMMIER - MEUBLE ET SO...  \n",
       "23914                                   ENFANT - FAMILLE  \n",
       "...                                                  ...  \n",
       "25860                                    LAVABO - VASQUE  \n",
       "14286                                         PANTACOURT  \n",
       "21751                                              SPORT  \n",
       "2317                            TAPIS - DESSOUS DE TAPIS  \n",
       "2757          TUYAU - BUSE - TETE ARROSAGE - ACCESSOIRE   \n",
       "22300                              ALIMENTATION - REGIME  \n",
       "13248                                          CASQUETTE  \n",
       "4668                         CHAISE - FAUTEUIL DE BUREAU  \n",
       "13429                                SANDALE - NU-PIEDS   \n",
       "26408                                ASPIRATEUR TRAINEAU  \n",
       "24978                                            CAHIER   \n",
       "11103                   JEU DE SOCIETE - JEU DE PLATEAU   \n",
       "24783                        MARQUEUR - MARQUEUR-FEUTRE   \n",
       "5068                                              AGRAFE  \n",
       "5424   GENERAL (BOITE A OUTIL - CAISSE A OUTIL - COFF...  \n",
       "23111                                  PHYSIQUE - CHIMIE  \n",
       "11212                            DOMINOS - MEMORY - LOTO  \n",
       "14022                                               POLO  \n",
       "15880                          LAINE A TRICOTER - PELOTE  \n",
       "9827                                   BATTERIE VEHICULE  \n",
       "15577              BOITIER - COQUE DE CLE - TELECOMMANDE  \n",
       "12106                                     SET DE VALISES  \n",
       "23669                                         RANDONNEES  \n",
       "23867                                            COUPLE   \n",
       "6118                                         TABLE BASSE  \n",
       "18257                                         JARDINAGE   \n",
       "7355                       CUISINIERE - PIANO DE CUISINE  \n",
       "22262                                           RELIGION  \n",
       "24096                                             CIRQUE  \n",
       "11873                 JEU D'EVEIL EDUCATIF - PEDAGOGIQUE  \n",
       "\n",
       "[20362 rows x 6 columns]"
      ]
     },
     "execution_count": 15,
     "metadata": {},
     "output_type": "execute_result"
    }
   ],
   "source": [
    "train_copie.head()"
   ]
  },
  {
   "cell_type": "code",
   "execution_count": 38,
   "metadata": {},
   "outputs": [],
   "source": [
    "# Explorer les autres champs a savoir Description, Libelle et Marque\n",
    "# pour cela, créer une colonne à texte à partir des 3 précédentes\n",
    "train_copie['text_conc'] = train_copie['Description'] + ' ' + train_copie['Libelle'] + ' ' + train_copie['Marque']\n",
    "test_copie['text_conc'] = test_copie['Description'] + ' ' + test_copie['Libelle'] + ' ' + test_copie['Marque']"
   ]
  },
  {
   "cell_type": "code",
   "execution_count": 39,
   "metadata": {},
   "outputs": [
    {
     "data": {
      "text/plain": [
       "(20362,)"
      ]
     },
     "execution_count": 39,
     "metadata": {},
     "output_type": "execute_result"
    }
   ],
   "source": [
    "train_copie['text_conc'].shape"
   ]
  },
  {
   "cell_type": "code",
   "execution_count": 40,
   "metadata": {},
   "outputs": [
    {
     "data": {
      "text/plain": [
       "CountVectorizer(analyzer='word', binary=False, decode_error='strict',\n",
       "                dtype=<class 'numpy.int64'>, encoding='utf-8', input='content',\n",
       "                lowercase=True, max_df=1.0, max_features=None, min_df=1,\n",
       "                ngram_range=(1, 1), preprocessor=None, stop_words=None,\n",
       "                strip_accents=None, token_pattern='(?u)\\\\b\\\\w\\\\w+\\\\b',\n",
       "                tokenizer=None, vocabulary=None)"
      ]
     },
     "execution_count": 40,
     "metadata": {},
     "output_type": "execute_result"
    }
   ],
   "source": [
    "vectorizer = CountVectorizer()\n",
    "vectorizer"
   ]
  },
  {
   "cell_type": "code",
   "execution_count": 47,
   "metadata": {},
   "outputs": [
    {
     "data": {
      "text/plain": [
       "MultinomialNB(alpha=1.0, class_prior=None, fit_prior=True)"
      ]
     },
     "execution_count": 47,
     "metadata": {},
     "output_type": "execute_result"
    }
   ],
   "source": [
    "# ajuster le modele en prenant comme features le modele vectorisé avec le texte et comme target la categorie3\n",
    "X_train = vectorizer.fit_transform(train_copie.text_conc.values.astype('U'))\n",
    "X_test = vectorizer.transform(test_copie.text_conc.values.astype('U'))\n",
    "y_train = train_copie['Categorie3']\n",
    "y_test = test_copie['Categorie3']"
   ]
  },
  {
   "cell_type": "code",
   "execution_count": 48,
   "metadata": {},
   "outputs": [],
   "source": [
    "# appliquer le modele et évaluer les performances du modele\n",
    "model.fit(X_train, y_train)"
   ]
  },
  {
   "cell_type": "code",
   "execution_count": 49,
   "metadata": {},
   "outputs": [
    {
     "name": "stdout",
     "output_type": "stream",
     "text": [
      "0.696081319976429\n"
     ]
    }
   ],
   "source": [
    "#print 'Accuracy : %.4f'%accuracy_score(test.Categorie3, model.predict(X_test))\n",
    "print(accuracy_score(y_test, model.predict(X_test)))"
   ]
  },
  {
   "cell_type": "markdown",
   "metadata": {},
   "source": [
    "# TF/IDF"
   ]
  },
  {
   "cell_type": "code",
   "execution_count": 50,
   "metadata": {},
   "outputs": [],
   "source": [
    "from sklearn.feature_extraction.text import TfidfVectorizer\n"
   ]
  },
  {
   "cell_type": "code",
   "execution_count": 52,
   "metadata": {
    "collapsed": true
   },
   "outputs": [
    {
     "data": {
      "text/plain": [
       "TfidfVectorizer(analyzer='word', binary=False, decode_error='strict',\n",
       "                dtype=<class 'numpy.float64'>, encoding='utf-8',\n",
       "                input='content', lowercase=True, max_df=1.0, max_features=None,\n",
       "                min_df=1, ngram_range=(1, 1), norm='l2', preprocessor=None,\n",
       "                smooth_idf=True, stop_words=None, strip_accents=None,\n",
       "                sublinear_tf=False, token_pattern='(?u)\\\\b\\\\w\\\\w+\\\\b',\n",
       "                tokenizer=None, use_idf=True, vocabulary=None)"
      ]
     },
     "execution_count": 52,
     "metadata": {},
     "output_type": "execute_result"
    }
   ],
   "source": [
    "vectorizer = TfidfVectorizer()\n",
    "vectorizer"
   ]
  },
  {
   "cell_type": "code",
   "execution_count": 54,
   "metadata": {},
   "outputs": [],
   "source": [
    "# Appliquer ce nouveau modèle sur le champ texte et faire les étapes précédentes jusqu'à la modélisation et l'accuracy\n",
    "X_train = vectorizer.fit_transform(train_copie.text_conc.values.astype('U'))\n",
    "X_test = vectorizer.transform(test_copie.text_conc.values.astype('U'))\n",
    "y_train = train_copie['Categorie3']\n",
    "y_test = test_copie['Categorie3']"
   ]
  },
  {
   "cell_type": "code",
   "execution_count": 55,
   "metadata": {},
   "outputs": [
    {
     "data": {
      "text/plain": [
       "MultinomialNB(alpha=1.0, class_prior=None, fit_prior=True)"
      ]
     },
     "execution_count": 55,
     "metadata": {},
     "output_type": "execute_result"
    }
   ],
   "source": [
    "model.fit(X_train, y_train)"
   ]
  },
  {
   "cell_type": "code",
   "execution_count": 56,
   "metadata": {},
   "outputs": [
    {
     "name": "stdout",
     "output_type": "stream",
     "text": [
      "0.702857984678845\n"
     ]
    }
   ],
   "source": [
    "#print 'Accuracy : %.4f'%accuracy_score(test.Categorie3, model.predict(X_test))\n",
    "print(accuracy_score(y_test, model.predict(X_test)))"
   ]
  },
  {
   "cell_type": "markdown",
   "metadata": {},
   "source": [
    "# Bigrams"
   ]
  },
  {
   "cell_type": "code",
   "execution_count": 66,
   "metadata": {},
   "outputs": [],
   "source": [
    "vectorizer = TfidfVectorizer(ngram_range=(1,2))\n"
   ]
  },
  {
   "cell_type": "code",
   "execution_count": 67,
   "metadata": {},
   "outputs": [],
   "source": [
    "# reprendre les étapes précédentes avec le modele Bigrams"
   ]
  },
  {
   "cell_type": "code",
   "execution_count": 68,
   "metadata": {},
   "outputs": [
    {
     "data": {
      "text/plain": [
       "MultinomialNB(alpha=1.0, class_prior=None, fit_prior=True)"
      ]
     },
     "execution_count": 68,
     "metadata": {},
     "output_type": "execute_result"
    }
   ],
   "source": [
    "X_train = vectorizer.fit_transform(train_copie.text_conc.values.astype('U'))\n",
    "X_test = vectorizer.transform(test_copie.text_conc.values.astype('U'))\n",
    "y_train = train_copie['Categorie3']\n",
    "y_test = test_copie['Categorie3']\n",
    "\n",
    "model.fit(X_train, y_train)"
   ]
  },
  {
   "cell_type": "code",
   "execution_count": 69,
   "metadata": {
    "scrolled": true
   },
   "outputs": [
    {
     "name": "stdout",
     "output_type": "stream",
     "text": [
      "0.6971125515615793\n"
     ]
    }
   ],
   "source": [
    "#print 'Accuracy : %.4f'%accuracy_score(test.Categorie3, model.predict(X_test))\n",
    "print(accuracy_score(y_test, model.predict(X_test)))"
   ]
  },
  {
   "cell_type": "markdown",
   "metadata": {},
   "source": [
    "# Bag of characters (1)"
   ]
  },
  {
   "cell_type": "code",
   "execution_count": 70,
   "metadata": {},
   "outputs": [],
   "source": [
    "vectorizer = CountVectorizer(analyzer=u'char_wb')"
   ]
  },
  {
   "cell_type": "code",
   "execution_count": 71,
   "metadata": {},
   "outputs": [],
   "source": [
    "# reprendre toutes les étapes précédentes avec les Bag of characters"
   ]
  },
  {
   "cell_type": "code",
   "execution_count": 72,
   "metadata": {},
   "outputs": [
    {
     "data": {
      "text/plain": [
       "MultinomialNB(alpha=1.0, class_prior=None, fit_prior=True)"
      ]
     },
     "execution_count": 72,
     "metadata": {},
     "output_type": "execute_result"
    }
   ],
   "source": [
    "X_train = vectorizer.fit_transform(train_copie.text_conc.values.astype('U'))\n",
    "X_test = vectorizer.transform(test_copie.text_conc.values.astype('U'))\n",
    "y_train = train_copie['Categorie3']\n",
    "y_test = test_copie['Categorie3']\n",
    "\n",
    "model.fit(X_train, y_train)"
   ]
  },
  {
   "cell_type": "code",
   "execution_count": 73,
   "metadata": {},
   "outputs": [
    {
     "name": "stdout",
     "output_type": "stream",
     "text": [
      "0.43930465527401297\n"
     ]
    }
   ],
   "source": [
    "#print 'Accuracy : %.4f'%accuracy_score(test.Categorie3, model.predict(X_test))\n",
    "print(accuracy_score(y_test, model.predict(X_test)))"
   ]
  },
  {
   "cell_type": "markdown",
   "metadata": {},
   "source": [
    "# Bag of characters (3)"
   ]
  },
  {
   "cell_type": "code",
   "execution_count": 74,
   "metadata": {},
   "outputs": [],
   "source": [
    "vectorizer = CountVectorizer(analyzer=u'char_wb', ngram_range=(3,3))"
   ]
  },
  {
   "cell_type": "code",
   "execution_count": 75,
   "metadata": {},
   "outputs": [
    {
     "data": {
      "text/plain": [
       "MultinomialNB(alpha=1.0, class_prior=None, fit_prior=True)"
      ]
     },
     "execution_count": 75,
     "metadata": {},
     "output_type": "execute_result"
    }
   ],
   "source": [
    "# pareil avec 3 characters\n",
    "X_train = vectorizer.fit_transform(train_copie.text_conc.values.astype('U'))\n",
    "X_test = vectorizer.transform(test_copie.text_conc.values.astype('U'))\n",
    "y_train = train_copie['Categorie3']\n",
    "y_test = test_copie['Categorie3']\n",
    "\n",
    "model.fit(X_train, y_train)"
   ]
  },
  {
   "cell_type": "code",
   "execution_count": 76,
   "metadata": {},
   "outputs": [
    {
     "name": "stdout",
     "output_type": "stream",
     "text": [
      "0.6857690041249264\n"
     ]
    }
   ],
   "source": [
    "#print 'Accuracy : %.4f'%accuracy_score(test.Categorie3, model.predict(X_test))\n",
    "print(accuracy_score(y_test, model.predict(X_test)))"
   ]
  },
  {
   "cell_type": "markdown",
   "metadata": {},
   "source": [
    "# Bag of characters (5)"
   ]
  },
  {
   "cell_type": "code",
   "execution_count": 77,
   "metadata": {},
   "outputs": [],
   "source": [
    "vectorizer = CountVectorizer(analyzer=u'char_wb', ngram_range=(5,5))"
   ]
  },
  {
   "cell_type": "code",
   "execution_count": 78,
   "metadata": {},
   "outputs": [
    {
     "data": {
      "text/plain": [
       "MultinomialNB(alpha=1.0, class_prior=None, fit_prior=True)"
      ]
     },
     "execution_count": 78,
     "metadata": {},
     "output_type": "execute_result"
    }
   ],
   "source": [
    "# pareil avec 5 characters\n",
    "X_train = vectorizer.fit_transform(train_copie.text_conc.values.astype('U'))\n",
    "X_test = vectorizer.transform(test_copie.text_conc.values.astype('U'))\n",
    "y_train = train_copie['Categorie3']\n",
    "y_test = test_copie['Categorie3']\n",
    "\n",
    "model.fit(X_train, y_train)"
   ]
  },
  {
   "cell_type": "code",
   "execution_count": 79,
   "metadata": {
    "scrolled": true
   },
   "outputs": [
    {
     "name": "stdout",
     "output_type": "stream",
     "text": [
      "0.7208308780200353\n"
     ]
    }
   ],
   "source": [
    "#print 'Accuracy : %.4f'%accuracy_score(test.Categorie3, model.predict(X_test))\n",
    "print(accuracy_score(y_test, model.predict(X_test)))"
   ]
  },
  {
   "cell_type": "markdown",
   "metadata": {
    "collapsed": true
   },
   "source": [
    "# Bag of characters (8)"
   ]
  },
  {
   "cell_type": "code",
   "execution_count": 80,
   "metadata": {},
   "outputs": [],
   "source": [
    "vectorizer = CountVectorizer(analyzer=u'char_wb', ngram_range=(8,8))"
   ]
  },
  {
   "cell_type": "code",
   "execution_count": 81,
   "metadata": {},
   "outputs": [
    {
     "data": {
      "text/plain": [
       "MultinomialNB(alpha=1.0, class_prior=None, fit_prior=True)"
      ]
     },
     "execution_count": 81,
     "metadata": {},
     "output_type": "execute_result"
    }
   ],
   "source": [
    "# pareil avec 8 characters\n",
    "X_train = vectorizer.fit_transform(train_copie.text_conc.values.astype('U'))\n",
    "X_test = vectorizer.transform(test_copie.text_conc.values.astype('U'))\n",
    "y_train = train_copie['Categorie3']\n",
    "y_test = test_copie['Categorie3']\n",
    "\n",
    "model.fit(X_train, y_train)"
   ]
  },
  {
   "cell_type": "code",
   "execution_count": 82,
   "metadata": {},
   "outputs": [
    {
     "name": "stdout",
     "output_type": "stream",
     "text": [
      "0.6965232763700648\n"
     ]
    }
   ],
   "source": [
    "print(accuracy_score(y_test, model.predict(X_test)))"
   ]
  },
  {
   "cell_type": "code",
   "execution_count": null,
   "metadata": {},
   "outputs": [],
   "source": []
  }
 ],
 "metadata": {
  "anaconda-cloud": {},
  "kernelspec": {
   "display_name": "Python 3",
   "language": "python",
   "name": "python3"
  },
  "language_info": {
   "codemirror_mode": {
    "name": "ipython",
    "version": 3
   },
   "file_extension": ".py",
   "mimetype": "text/x-python",
   "name": "python",
   "nbconvert_exporter": "python",
   "pygments_lexer": "ipython3",
   "version": "3.7.3"
  }
 },
 "nbformat": 4,
 "nbformat_minor": 1
}
