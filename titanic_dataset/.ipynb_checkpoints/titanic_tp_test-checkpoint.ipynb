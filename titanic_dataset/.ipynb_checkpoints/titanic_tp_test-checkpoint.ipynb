{
 "cells": [
  {
   "cell_type": "code",
   "execution_count": 1,
   "metadata": {},
   "outputs": [],
   "source": [
    "import titanic.pipeline.pipeline as pip"
   ]
  },
  {
   "cell_type": "code",
   "execution_count": null,
   "metadata": {},
   "outputs": [],
   "source": [
    "file = \"data/train.csv\"\n",
    "separator = ','\n",
    "features_to_convert = ['Pclass', 'Parch']\n",
    "type_convert = str\n",
    "features_used_X = ['Pclass', 'SibSp', 'Parch']\n",
    "feature_used_y = 'Survived'\n",
    "features_to_dumnify = ['Parch', 'Pclass']\n",
    "model = 'RandFor'"
   ]
  },
  {
   "cell_type": "code",
   "execution_count": 3,
   "metadata": {},
   "outputs": [
    {
     "name": "stderr",
     "output_type": "stream",
     "text": [
      "C:\\Users\\mdele\\Anaconda3\\lib\\site-packages\\sklearn\\ensemble\\forest.py:245: FutureWarning: The default value of n_estimators will change from 10 in version 0.20 to 100 in 0.22.\n",
      "  \"10 in version 0.20 to 100 in 0.22.\", FutureWarning)\n"
     ]
    },
    {
     "name": "stdout",
     "output_type": "stream",
     "text": [
      "Score =  0.6945807380594907\n"
     ]
    }
   ],
   "source": [
    "#pipeline_p(file, separator, features_to_convert, type_convert, features_used_X, feature_used_y, features_to_dumnify, model)\n",
    "pip.pipeline_p(file, separator, features_to_convert, type_convert, features_used_X, feature_used_y, features_to_dumnify, model)"
   ]
  }
 ],
 "metadata": {
  "kernelspec": {
   "display_name": "Python 3",
   "language": "python",
   "name": "python3"
  },
  "language_info": {
   "codemirror_mode": {
    "name": "ipython",
    "version": 3
   },
   "file_extension": ".py",
   "mimetype": "text/x-python",
   "name": "python",
   "nbconvert_exporter": "python",
   "pygments_lexer": "ipython3",
   "version": "3.7.3"
  }
 },
 "nbformat": 4,
 "nbformat_minor": 2
}
